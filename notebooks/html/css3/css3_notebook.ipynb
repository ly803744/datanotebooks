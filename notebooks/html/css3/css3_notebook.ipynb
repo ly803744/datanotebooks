{
 "cells": [
  {
   "cell_type": "markdown",
   "metadata": {},
   "source": [
    "# css3笔记整理"
   ]
  },
  {
   "cell_type": "markdown",
   "metadata": {},
   "source": [
    "css用户控制网页的样式和布局，css3是最新的css标准\n",
    "\n",
    "css主要被分为如下重要的模块\n",
    "\n",
    "选择器、框模型、背景和边框、文本效果、2D/3D转换、动画、多列布局、用户界面"
   ]
  },
  {
   "cell_type": "markdown",
   "metadata": {},
   "source": [
    "***css3边框***\n",
    "\n",
    "border-radius  设置边框的形状\n",
    "\n",
    "box-shadow  向方框添加一个或多个阴影\n",
    "\n",
    "border-image 创建边框的原始图片\n"
   ]
  },
  {
   "cell_type": "markdown",
   "metadata": {},
   "source": [
    "***css3背景***\n",
    "\n",
    "background-size 规定背景图片的尺寸\n",
    "\n",
    "background-origin 规定背景图片和定位区域"
   ]
  },
  {
   "cell_type": "markdown",
   "metadata": {},
   "source": [
    "***css3文本效果***\n",
    "\n",
    "text-shadow 参数（水平阴影pt，上下阴影pt，模糊程度pt，阴影颜色pt）\n",
    "\n",
    "word-warp  允许对长的不可分割的单词进行分割并换行到下一行"
   ]
  },
  {
   "cell_type": "markdown",
   "metadata": {},
   "source": [
    "***css3 2D转换***\n",
    "\n",
    "transform属性参数\n",
    "\n",
    "translate（x，y） 沿着x轴和y轴移动元素\n",
    "\n",
    "translateX(n)  沿着X轴移动元素\n",
    "\n",
    "translateY(n)  沿着Y轴移动元素\n",
    "\n",
    "rotate（angle） 在参数中规定角度\n",
    "\n",
    "scale（x,y） 缩放转换，定义元素的高度和宽度\n",
    "\n",
    "skew      倾斜转换，沿着x轴和y轴\n"
   ]
  },
  {
   "cell_type": "markdown",
   "metadata": {},
   "source": [
    "***css3 3D***转换（3D中同样具有2D中的许多参数）\n",
    "\n",
    "transform参数\n",
    "\n",
    "rotateX()元素围绕其x轴，以给定的角度进行转换\n",
    "\n",
    "rotateY()元素围绕其y轴，以给定的角度进行转换"
   ]
  }
 ],
 "metadata": {
  "kernelspec": {
   "display_name": "Python 3",
   "language": "python",
   "name": "python3"
  },
  "language_info": {
   "codemirror_mode": {
    "name": "ipython",
    "version": 3
   },
   "file_extension": ".py",
   "mimetype": "text/x-python",
   "name": "python",
   "nbconvert_exporter": "python",
   "pygments_lexer": "ipython3",
   "version": "3.6.1"
  }
 },
 "nbformat": 4,
 "nbformat_minor": 2
}
