{
 "cells": [
  {
   "cell_type": "markdown",
   "metadata": {},
   "source": [
    "# css样式笔记"
   ]
  },
  {
   "cell_type": "markdown",
   "metadata": {},
   "source": [
    "### 1.样式定义"
   ]
  },
  {
   "cell_type": "markdown",
   "metadata": {},
   "source": [
    "在head标签内使用style定义样式\n"
   ]
  },
  {
   "cell_type": "markdown",
   "metadata": {},
   "source": [
    "### 2.样式选择器"
   ]
  },
  {
   "cell_type": "markdown",
   "metadata": {},
   "source": [
    "***id选择器***\n",
    "\n",
    "格式：#id名{属性：属性值}\n",
    "\n",
    "注：id选择器的优先级最高，页面中不能出现同名的id，id名是唯一的。\n",
    "\n",
    "***class（类选择器）***\n",
    "\n",
    "格式：.类名{属性：属性值}\n",
    "\n",
    "注：类选择器的优先级仅次于id选择器，可以出现相同的类名\n",
    "\n",
    "***标签选择器***\n",
    "\n",
    "格式 标签名{属性：属性值}\n",
    "\n",
    "***后代选择器（包含选择器）***\n",
    "\n",
    "如 .类名 标签名{}\n",
    "\n",
    "***群组选择器***\n",
    "\n",
    "选择符1，选择符2，选择符3{属性：属性值}\n",
    "\n",
    "***属性选择器***\n",
    "\n",
    "如a[href]{属性：属性值}\n",
    "\n",
    "***通用选择器***\n",
    "\n",
    "*{属性：属性值}\n",
    "\n",
    "说明：匹配html根元素下的所有标签元素\n",
    "\n",
    "***伪类选择器***\n",
    "\n",
    "如a:hover{属性：属性值}\n",
    "\n",
    "常见的伪类：hover/active/focus/bofore/after\n",
    "\n"
   ]
  },
  {
   "cell_type": "markdown",
   "metadata": {},
   "source": [
    "### 3.选择器的权重与重叠"
   ]
  },
  {
   "cell_type": "markdown",
   "metadata": {},
   "source": [
    "权重分为4个等级\n",
    "\n",
    "行内样式1000，id选择器100，类选择器/伪类选择器/属性选择器10,元素选择器/伪元素选择器1\n",
    "\n",
    "css层叠指的是样式的优先级，当产生冲突时以优先级高的为准\n",
    "\n",
    "行类样式>内联样式>外联样式（除非使用！import进行标记）\n",
    "\n",
    "id选择器>类选择器>元素选择器"
   ]
  },
  {
   "cell_type": "markdown",
   "metadata": {},
   "source": [
    "### 4.字体"
   ]
  },
  {
   "cell_type": "markdown",
   "metadata": {},
   "source": [
    "***字体类型***\n",
    "\n",
    "font-family:\"字体1\"，\"字体2\"，\"字体3\" \n",
    "\n",
    "浏览器会优先识别字体1,如果找不到会识别字体2，如果找不到会识别字体3，如果设置的字体都找不到，显示浏览器默认字体\n",
    "\n",
    "***字体大小***\n",
    "\n",
    "font-size:数值+单位\n",
    "\n",
    "浏览器默认的字体大小为16px,字体一般设置偶数不设置奇数\n",
    "\n",
    "***字体加粗***\n",
    "\n",
    "font-weight:\n",
    "\n",
    "normal默认、bold加粗字体，bolder加粗字体，100-500常规字体，600-900加粗字体\n",
    "\n",
    "\n",
    "***字体倾斜***\n",
    "\n",
    "font-style:normal常规字体，italic倾斜，oblique倾斜\n"
   ]
  },
  {
   "cell_type": "markdown",
   "metadata": {},
   "source": [
    "### 5.文本"
   ]
  },
  {
   "cell_type": "markdown",
   "metadata": {},
   "source": [
    "***文本颜色***\n",
    "\n",
    "color:三种方式：red,#,rgb()\n",
    "\n",
    "***文本修饰***\n",
    "\n",
    "text-decoration:三个参数：文字类型，线类型，颜色\n",
    "参数1:none文字无装饰、underline文字装饰下划线、overline文字装饰上划线、line-through贯穿线\n",
    "参数2：solid实线，double双线，dotted点状线，dashed虚线，wavy波浪线\n",
    "\n",
    "***文字转换***\n",
    "\n",
    "text-transform:none|capitalize将单词的第一个字母转大写|uppercase|lowercase\n",
    "\n",
    "***字间距***\n",
    "\n",
    "letter-spacing:数字+单位\n",
    "\n",
    "***单词间距***\n",
    "\n",
    "word-spacing:数字+单位\n",
    "\n",
    "***文字对齐***\n",
    "\n",
    "text-align"
   ]
  },
  {
   "cell_type": "markdown",
   "metadata": {},
   "source": [
    "### 6.列表属性"
   ]
  },
  {
   "cell_type": "markdown",
   "metadata": {},
   "source": [
    "list-style"
   ]
  },
  {
   "attachments": {},
   "cell_type": "markdown",
   "metadata": {},
   "source": [
    "### 7.边框\n",
    "\n",
    "border：[ border-width ] || [ border-style ] || [ border-color ]\n",
    "\n",
    "<img src=\"1.jpg\"></img>"
   ]
  },
  {
   "cell_type": "markdown",
   "metadata": {},
   "source": [
    "### 8.背景"
   ]
  },
  {
   "cell_type": "markdown",
   "metadata": {},
   "source": [
    "backgroud-color\n",
    "\n",
    "backgroud-image:url(图片路径)\n",
    "\n",
    "backgroud-repeat：repeat-x,repeat-y,repeat,no-repeat,round,space\n",
    "\n",
    "background-position:center,left,right,top,bottom\n",
    "\n",
    "backgroud-size:auto,cover,contain,  400px 450px"
   ]
  },
  {
   "cell_type": "markdown",
   "metadata": {},
   "source": [
    "### 9.位置"
   ]
  },
  {
   "cell_type": "markdown",
   "metadata": {},
   "source": [
    "position:static|relative相对位置|absulote绝对位置|fixed固定位置  \n",
    "\n",
    "默认为static\n",
    "\n"
   ]
  },
  {
   "cell_type": "markdown",
   "metadata": {},
   "source": [
    "### 10.浮动"
   ]
  },
  {
   "cell_type": "markdown",
   "metadata": {},
   "source": [
    "float:left|right\n",
    "\n",
    "清除浮动：\n",
    "\n",
    "clear:left|right|both"
   ]
  },
  {
   "cell_type": "markdown",
   "metadata": {},
   "source": [
    "### 11.盒子模型"
   ]
  },
  {
   "cell_type": "markdown",
   "metadata": {},
   "source": [
    "构成：content/padding/border/margin/"
   ]
  }
 ],
 "metadata": {
  "kernelspec": {
   "display_name": "Python 3",
   "language": "python",
   "name": "python3"
  },
  "language_info": {
   "codemirror_mode": {
    "name": "ipython",
    "version": 3
   },
   "file_extension": ".py",
   "mimetype": "text/x-python",
   "name": "python",
   "nbconvert_exporter": "python",
   "pygments_lexer": "ipython3",
   "version": "3.6.1"
  }
 },
 "nbformat": 4,
 "nbformat_minor": 2
}
