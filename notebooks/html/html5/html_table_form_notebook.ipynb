{
 "cells": [
  {
   "cell_type": "markdown",
   "metadata": {},
   "source": [
    "# html5笔记"
   ]
  },
  {
   "cell_type": "markdown",
   "metadata": {},
   "source": [
    "## 1.HTML简介"
   ]
  },
  {
   "cell_type": "markdown",
   "metadata": {},
   "source": [
    "HTML是超文本标记语言（Hyper Text Markup Language）\n",
    "\n",
    "HTML5（H5）是超文本标记语言（HTML）的第五次重大修改的产物\n",
    "\n",
    "    HTML5的第一份正式草案已于2008年1月22日公布\n",
    "    2012年12月17日，万维网联盟（w3c）正式宣布HTML5规范\n",
    "    \n",
    "***W3C网页标准***w3c标准是网页制作的标准，它不是一个标准，而是由一系列的标准组成的。\n",
    "\n",
    "结构（html）、样式（css）由w3c指定，行为（javascript）由ECMA指定\n"
   ]
  },
  {
   "cell_type": "markdown",
   "metadata": {},
   "source": [
    "## 2.HTML基本结构"
   ]
  },
  {
   "cell_type": "markdown",
   "metadata": {},
   "source": [
    "***文档声明***\n",
    "\n",
    "    <!DOCTYPE html>\n",
    "\n",
    "    <!doctype html>\n",
    "\n",
    "    <!DOCTYPE HTML>\n",
    "\n",
    "***根元素是html***\n",
    "\n",
    "    <html></html>\n",
    "\n",
    "    除文档声明外，所有的内容和标签都放在<html></html>中间\n",
    "\n",
    "***<head>***\n",
    "\n",
    "    主要用来设置一些meta头元素信息（如字符编码、关键词等）\n",
    "    \n",
    "    <meta charset=\"utf-8\">\n",
    "    \n",
    "    引入一些外部文件（js,css）\n",
    "    \n",
    "    设置网页标题 \n",
    "    \n",
    "    <title></title>\n",
    "    \n",
    "    自定义样式 <style> </style>\n",
    "    \n",
    "    注意head部分设置的内容不会显示到浏览器中\n",
    "    \n",
    "***<body>*** \n",
    "    \n",
    "    浏览器中显示网页的内容及包含网页内容的标签都要放在<body>标签中  \n",
    "    \n",
    "    <body>您好</body>  <body><h1>您好</h1></body>\n"
   ]
  },
  {
   "cell_type": "markdown",
   "metadata": {},
   "source": [
    "## 3.html基本语法"
   ]
  },
  {
   "cell_type": "markdown",
   "metadata": {},
   "source": [
    "### 常规标记\n",
    "\n",
    "***标签闭合***\n",
    "\n",
    "<标记 属性1=\"属性值\" 属性2=\"属性值\"></标记>\n",
    "\n",
    "<div style=\"width:20\"></div>\n",
    "\n",
    "***空标记***自闭合\n",
    "\n",
    "<标记 属性=\"属性值\" 属性=\"属性值\"/>\n",
    "\n",
    "<img src=\"sss.jpg\" title=\"大哥大\"/>\n",
    "\n",
    "***注释***\n",
    "\n",
    "<!--注释内容-->\n",
    "\n",
    "注：不能出现在标签内部，注释某一个属性\n",
    "\n",
    "***注意事项***\n",
    "\n",
    "标记名称要小写\n",
    "\n",
    "所有出现的标点符号都必须是英文状态\n",
    "\n",
    "属性和属性值用等号连接，属性值要加双引号，多个属性之间用空格隔开\n"
   ]
  },
  {
   "cell_type": "markdown",
   "metadata": {},
   "source": [
    "## 4.html标记"
   ]
  },
  {
   "cell_type": "markdown",
   "metadata": {},
   "source": [
    "***常用标签***\n",
    "\n",
    "标签 h1 h2 h3 h4 h5 h6\n",
    "\n",
    "<h1>标题内容</h1>\n",
    "<h2>标题内容</h2>\n",
    "<h3>标题内容</h3>\n",
    "<h4>标题内容</h4>\n",
    "<h5>标题内容</h5>\n",
    "<h6>标题内容</h6>"
   ]
  },
  {
   "cell_type": "markdown",
   "metadata": {
    "collapsed": true
   },
   "source": [
    "段落 p标签\n",
    "<p>段落文本内容</p>"
   ]
  },
  {
   "cell_type": "markdown",
   "metadata": {},
   "source": [
    "特殊符号\n",
    "\n",
    "小于号 &gt;\n",
    "\n",
    "大于号 &lt;\n",
    "\n",
    "空格  '&nbsp';  引号为为了内容的显示，故意添加的，用大于号和小于号代替括号\n",
    "\n",
    "换行 'br/'\n",
    "\n",
    "水平分割线  'hr/'\n",
    "\n",
    "文本加粗 ‘strong’\n",
    "\n",
    "文本倾斜  ‘em’\n",
    "\n",
    "上标  ‘sup’    欢迎<sup>欢迎</sup>\n",
    "\n",
    "下标  ‘sub’   欢迎<sub>欢迎</sub>\n",
    "\n",
    "无序列表  ‘ul’\n",
    "\n",
    "<ul>\n",
    "    <li>cici</li>\n",
    "    <li>job</li>\n",
    "</ul>\n",
    "\n",
    "有序列表  ‘ol’\n",
    "\n",
    "<ol type=\"a\" start=\"2\">\n",
    "    <li>Disen</li>\n",
    "    <li>Mack</li>\n",
    "</ol>\n",
    "\n",
    "自定义列表 ‘dl’\n",
    "\n",
    "<dl>\n",
    "    <dt>A</dt>\n",
    "    <dd>a1</dd>\n",
    "    <dd>a2</dd>\n",
    "    <dt>B</dt>\n",
    "    <dd>b1</dd>\n",
    "    <dd>b2</dd>\n",
    "</dl>\n",
    "\n",
    "img图片\n",
    "\n",
    "语法：<img src=\"图片路径\" width=\"数值\" height=\"数值\"  title=\"提示信息\"  alt=\"替换信息\" \n",
    "\n",
    "title是当鼠标悬停到图片上时显示的提示信息\n",
    "\n",
    "alt是图片由于某些原因无法正常加载时，显示替换的信息\n",
    "\n",
    "内容：img src=\"1.jpg\" width=\"200\" height=\"200\"\n",
    "<img src=\"1.jpg\" width=\"300\" height=\"300\" padding=\"10px\"/>\n",
    "\n",
    "a超链接\n",
    "\n",
    "语法：小于号 a href=\"连接地址或文件\"  target=\"_blank\" title=\"提示信息\" 大于号 链接文本或图片  小于号 /a 大于号\n",
    "\n",
    "\n",
    "target=\"_blank\"  在新窗口打开\n",
    "\"_self\"  在本窗口打开\n",
    "\"_parent\" 连接在父窗口打开\n",
    "“_top\" 连接在顶窗口打开\n",
    "\n",
    "a href=\"#\" 内容   空链接直接跳转到网页的顶部\n",
    "\n",
    "audio音频  audio src=\"倍儿爽.mp3\" autoplay\n",
    "\n",
    "video视频  video src=\"文件路径.mp4\""
   ]
  },
  {
   "cell_type": "markdown",
   "metadata": {},
   "source": [
    "***表格标签***\n",
    "\n",
    "table标签用于定义表格\n",
    "\n",
    "tr 用于定义行\n",
    "\n",
    "td 用于定义列\n",
    "\n",
    "th 用于定义表头会有加粗居中的效果\n",
    "\n",
    "caption  用于定义表格的标题\n",
    "\n",
    "thead  定义表格的页眉\n",
    "\n",
    "tbody  定义表格的主体\n",
    "\n",
    "tfoot  定义表格的页脚\n",
    "\n",
    "相关属性\n",
    "border 表格边框的宽度\n",
    "\n",
    "cellspadding  两个单元格之间的间隔\n",
    "\n",
    "cellpadding  单元内部填充，即内容和单元格之间的空隙\n",
    "\n",
    "width 定义单元格或者表格的宽度\n",
    "\n",
    "height 定义单元格或者表格的高度\n",
    "\n",
    "align  定义单元格内的对齐方式，有left,right,center\n",
    "\n",
    "colspan 合并列\n",
    "\n",
    "rowspan 合并行\n"
   ]
  },
  {
   "cell_type": "markdown",
   "metadata": {},
   "source": [
    "***表单的标签***\n",
    "\n",
    "主要用于搜集用户的信息\n",
    "\n",
    "语法: form method=\"get|post\" action=\"login\" from  所有的表单控件都放在form标签之间\n",
    "\n",
    "表单控件：\n",
    "\n",
    "文本框 input type=\"text\" name=\"\" value=\"\"  value用来设置或者获取文本框的值\n",
    "\n",
    "密码框 input type=\"password\" name=\"\" placeholder=\"请输入密码\"\n",
    "\n",
    "提交按钮 input type=\"submit\" value=\"登录\"  提交查询，请求form中url的地址\n",
    "\n",
    "重置按钮 input type=\"reset\" value=\"清空\" 重置form中所有控件为初始值\n",
    "\n",
    "单选框 input type=\"radio\" name=\"sex\" value=\"男\" checked=\"checked\" 男\n",
    "\n",
    "    1.单选按钮必须添加一致的属性值，才能达到多选其一的效果\n",
    "    2.设置checked属性，可以在页面加载完成后添加默认选中状态，主要用于单选和复选按钮上\n",
    "    3.单属性和属性值相同时，可以省略属性值\n",
    "    \n",
    "复选框 input type=\"checkbox\" name=\"hobby\" value=\"看书\" checked   \n",
    "\n",
    "\n",
    "下拉列表  \"option\"a\"/option\"\n",
    "        \"option select=\"selected\"\" b“/option”\n",
    "        \n",
    "文本域 textarea cols=\"字符宽度\" rows=\"行数\"\n",
    "\n",
    "普通按钮 input type=\"button\" value=\"立即领取\"\n",
    "\n",
    "    普通按钮不具备提交功能，通常结合js一起用\n",
    "    \n",
    "    普通按钮默认文字内容为空，必须添加value属性，设置相关的按钮文件内容\n",
    "    \n",
    "扩展说明：method主要用于数据的发送方式\n",
    "\n",
    "get与post的区别：\n",
    "    get主要用于获取数据，post主要用于发送数据\n",
    "    get主要用于发送的数据量较小，，一般为2kb,而post可以发送的数据量较大\n",
    "    get发送的数据会之间显示在url地址框中，不安全。post通过服务器来发送数据更安全。\n",
    "    \n"
   ]
  },
  {
   "cell_type": "markdown",
   "metadata": {},
   "source": [
    "***其他标签***\n",
    "\n",
    "div span iframe"
   ]
  },
  {
   "cell_type": "markdown",
   "metadata": {},
   "source": [
    "***html元素类型***\n",
    "\n",
    "三个元素：块元素、内联元素、可变元素\n",
    "\n",
    "块元素：\n",
    "    常见块元素 div p ol ul li dl dt dd form table tr td h1-h6 hr\n",
    "    1.块元素以块的形式显示一个矩形区域\n",
    "    2.块元素默认自上而下排列\n",
    "    3.块元素可以定义自己的宽度和高度，以及盒模型中的任意值（margin padding border）\n",
    "    4.块元素可以作为一个容器容纳其他的块元素和内联元素\n",
    "    \n",
    "内联元素：a span b strong em i label img input select textarea\n",
    "\n",
    "    1.内联元素默认在一行逐个进行显示\n",
    "    2.内联元素没有自己的形状，不能定义自己的宽度和高度，它的宽度和高度由内容决定，也显示一个矩形区域\n",
    "    3.内联元素设置和高度相关的属性（margin-top,margin-bottom,padding-top,padding-bottom）等\n",
    "    4.内联元素可以设置左右的margin,padding\n",
    "    5.内联运算不能嵌套块元素"
   ]
  },
  {
   "cell_type": "markdown",
   "metadata": {},
   "source": [
    "***元路类型的转换***\n",
    "display:block|inline_block|inline|none|list-item\n",
    "\n",
    "block 块元素的默认display属性值，给元素设置为block即具有了块元素的特点\n",
    "\n",
    "inline-block  将元素转换为内联块元素，是img，input等内联块元素的默认display属性值\n",
    "\n",
    "inline  将元素转换为内联元素，是a,span等内联元素的默认display属性值\n",
    "\n",
    "none  将元素隐藏不可见，如需将元素再次显示，设置该元素默认display属性值即可\n",
    "\n",
    "list-item  将元素转换为列表项，是li的默认display属性值\n",
    "\n",
    "当给元素设置了float属性后，就相当于转成了block类型，可以设置宽高"
   ]
  },
  {
   "cell_type": "markdown",
   "metadata": {},
   "source": [
    "***嵌套规则***\n",
    "\n",
    "块级元素可以包含内联元素或某些块级元素\n",
    "但内联元素不能包含块级元素，它只能包含其他的内联元素\n"
   ]
  }
 ],
 "metadata": {
  "kernelspec": {
   "display_name": "Python 3",
   "language": "python",
   "name": "python3"
  },
  "language_info": {
   "codemirror_mode": {
    "name": "ipython",
    "version": 3
   },
   "file_extension": ".py",
   "mimetype": "text/x-python",
   "name": "python",
   "nbconvert_exporter": "python",
   "pygments_lexer": "ipython3",
   "version": "3.6.1"
  }
 },
 "nbformat": 4,
 "nbformat_minor": 2
}
