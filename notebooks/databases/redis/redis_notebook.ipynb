{
 "cells": [
  {
   "cell_type": "markdown",
   "metadata": {},
   "source": [
    "# redis笔记整理"
   ]
  },
  {
   "cell_type": "markdown",
   "metadata": {},
   "source": [
    "## 1.描述"
   ]
  },
  {
   "cell_type": "markdown",
   "metadata": {},
   "source": [
    "redis(Remote Dictionary Server):非关系型数据库，以键值对的形式进行数据存储（key-value）\n",
    "\n",
    "存储在内存中 ***性能高***  Redis能读的速度是110000次/s,写的速度是81000次/s\n",
    "\n",
    "redis与mongodb的比较\n",
    "\n",
    "1.都是基于c++实现的\n",
    "\n",
    "2.都依赖于内存，但Redis的TPS（吞吐量）比MongoDB高\n",
    "\n",
    "    TPS=并发数/平均响应时间\n",
    "    并发数：系统同时处理的request/事务数\n",
    "    响应时间：一般取平均响应时间\n",
    "\n",
    "3.mongodb提供了丰富的数据表达式，接近SQL,而Redis提供较少的IO\n",
    "\n",
    "4.mongodb 不支持事务，而Redis支持事务，但只保证事务按顺序执行\n",
    "\n",
    "5.mongodb支持Maprrduce(内部数据分析)，redis不支持\n",
    "\n",
    "6.海量数据处理Mongdb优于redis\n",
    "\n",
    "***特性***\n",
    "\n",
    "数据的持久化：可以将内存中的数据保存在磁盘中，重启的时候可以再次加载进行使用。\n",
    "\n",
    "丰富的数据类型：不仅仅支持简单的key-value类型的数据，同时还提供list，set，zset，hash等数据结构的存储。\n",
    "\n",
    "数据的备份：即master-slave模式的数据备份。\n"
   ]
  },
  {
   "cell_type": "markdown",
   "metadata": {},
   "source": [
    "## 2.安装"
   ]
  },
  {
   "cell_type": "markdown",
   "metadata": {},
   "source": [
    "sudo apt install redis-server\n",
    "\n",
    "sudo service redis-server status\n",
    "\n",
    "sudo service redis-server restart\n",
    "\n",
    "ps -ef | grep redis  # 查看redis进程\n",
    "\n",
    "netstat -antp | grep 6379  # 查看redis服务占用的端口"
   ]
  },
  {
   "cell_type": "markdown",
   "metadata": {},
   "source": [
    "## 3.进入redis环境"
   ]
  },
  {
   "cell_type": "markdown",
   "metadata": {},
   "source": [
    "redis-cli  进入redis环境\n",
    "\n",
    "redis-cli -h 127.0.0.1 -p 6379  #指定ip地址和端口\n",
    "\n",
    "-r n 代表将命令重复执行n次\n",
    "\n",
    "-i n 每隔n秒执行一次命令，必须与-r同时使用\n",
    "\n",
    "redis-cli -r 3 -i 0.1\n",
    "\n",
    "redis-cli -r 5 -i 1 info | grep used_memory_human\n",
    "\n",
    "每隔1秒查询内存使用概况，一共查询5次\n",
    "\n",
    "-a <passwd>  指定密码登录  redis-cli get passwd  查看密码\n",
    "\n",
    "redis-cli info cpu  查看redis服务的cpu使用情况\n",
    "\n",
    "exit/quit\n"
   ]
  },
  {
   "cell_type": "markdown",
   "metadata": {},
   "source": [
    "## 4.redis配置文件"
   ]
  },
  {
   "cell_type": "markdown",
   "metadata": {},
   "source": [
    "配置文件路径\n",
    "\n",
    "/etc/redis/redis.conf\n",
    "\n",
    "sudo vi /etc/redis/redis.conf"
   ]
  },
  {
   "cell_type": "markdown",
   "metadata": {},
   "source": [
    "***功能***\n",
    "\n",
    "设置密码\n",
    "\n",
    "    修改requirepass为登录密码\n",
    "    \n",
    "    requirepass disen888   设置密码\n",
    "    \n",
    "    重启服务  sudo service redis-server restart\n",
    "    \n",
    "    使用口令登录\n",
    "    \n",
    "    redis-cli -a disen888\n",
    "    \n",
    "绑定主机地址\n",
    "    \n",
    "    修改bind的127.0.0.1为1的本地实际ip地址\n",
    "    \n",
    "    重启服务：sudo service redis-server restart\n",
    "    \n",
    "    指定ip连接redis: redis-cli -h 10.35.163.5\n",
    "    \n",
    "保护模式\n",
    "\n",
    "    redis4.0+ 版本保护模式\n",
    "    \n",
    "    bind 127.0.0.1:: 只限本地连接\n",
    "    \n",
    "    protected-mode yes  开启保护模式\n",
    "    "
   ]
  },
  {
   "cell_type": "markdown",
   "metadata": {},
   "source": [
    "## 5.基本操作"
   ]
  },
  {
   "cell_type": "markdown",
   "metadata": {},
   "source": [
    "### 1.设置键值 获取键的值  删除键\n",
    "\n",
    "set name \"lili\"  # 用set指令设置key value\n",
    "\n",
    "get name      # 获取name的值\n",
    "\n",
    "del name      # 删除name键"
   ]
  },
  {
   "cell_type": "markdown",
   "metadata": {},
   "source": [
    "### 2.key操作的命令\n",
    "\n",
    "exists key # 确认一个key是否存在  1为真，0为假\n",
    "\n",
    "type key  # 返回key值的类型\n",
    "\n",
    "keys pattern  # 返回满足给定pattern的所有key 如keys *name*\n",
    "\n",
    "randomkey  # 随机返回一个存在的key\n",
    "\n",
    "rename oldname newname  # 重命名key\n",
    "\n",
    "dbsize  # 返回当前数据库中key的数目\n",
    "\n",
    "exprie keyname seconds  # 获得一个key的活动时间(s)（这个key为当前库中存在的key，设置时间后，当时间终止时，该key会自动消失）\n",
    "\n",
    "ttl keyname # 获得一个key的活动时间，当返回的结果为(integer) -1时，代表可以一直活动\n",
    "\n",
    "select 1 # 切换到1数据库中\n",
    "\n",
    "move keyname dbindex 移动当前数据库中的key到dbindex数据库\n",
    "\n",
    "flushdb  # 删除当前选择数据库中的所有key\n",
    "\n",
    "flushall # 删除所有数据库中的所有key"
   ]
  },
  {
   "cell_type": "markdown",
   "metadata": {},
   "source": [
    "### 3.string 操作命令\n",
    "\n",
    "getset key value   # 将给定key的值设为value，并返回key的旧值(old value)\n",
    "\n",
    "mget key1 key2 [key3……]   # 获取一个或多个指定key的值\n",
    "\n",
    "setnx key value  # 添加新key的value,如果key已经存在，则什么都不做\n",
    "\n",
    "setex key time value   # 修改key的value，并设置过期时间\n",
    "\n",
    "mset key value [key value ……]  # 批量设置多个string的值\n",
    "\n",
    "msetnx key value [key value……]  # 添加多个都不存在的key-value\n",
    "\n",
    "incr key #将key的value增1，只对数字的value递增\n",
    "\n",
    "incrby key integer  # 将key的valuez增加指定的数值\n",
    "\n",
    "desc key  # 将key的value减1，只对数字的value进行递减\n",
    "\n",
    "descby key integer  # 将key的value减去指定的数值\n",
    "\n",
    "append key value  # 附加value，相对于Python中字符串的拼接\n",
    "\n",
    "substr key start end  返回value的子串（与Python中的列表的切片类似，唯一不同的是end包含在内 sex \"maledsf\"  substr sex 0 3  返回结果为male ）\n"
   ]
  },
  {
   "cell_type": "markdown",
   "metadata": {},
   "source": [
    "### 4.list操作命令"
   ]
  },
  {
   "cell_type": "markdown",
   "metadata": {},
   "source": [
    "rpush key value [value……] # 在名称为key的list尾添加一个值为value的元素（也可以创建list类型的value）\n",
    "\n",
    "lpush key value [value ...]  # 在名称为key的list头添加一个值为value的元素(从左侧传的第一个值被最后一个返回出) lpush age 1 2 3 4 5 返回结果为5 4 3 2 1\n",
    "\n",
    "llen key  返回名称为key的list的长度\n",
    "\n",
    "***lrange key start end*** 返回名称为key的list中start之end之间的元素（start位置的元素与end位置的元素都会显示）\n",
    "\n",
    "lrange key 0 -1  显示所有元素\n",
    "\n",
    "\n",
    "ltrim key start end 截取名称为key的list,截取之后在查询，结果为截取之后的内容\n",
    "\n",
    "lindex key index  返回名称为key的list中index位置的元素\n",
    "\n",
    "lset key index value 给名称为key的list中的元素赋值\n",
    "\n",
    "lrem key count value  删除count个key的list中值为value的元素\n",
    "\n",
    "lpop key  返回并删除名称为key的list的首元素\n",
    "\n",
    "rpop key 返回并删除名称为key的list的尾元素\n"
   ]
  },
  {
   "cell_type": "markdown",
   "metadata": {},
   "source": [
    "### 5.set操作"
   ]
  },
  {
   "cell_type": "markdown",
   "metadata": {},
   "source": [
    "sadd key member  # 向名称为key的set中添加元素member(也可以创建set)\n",
    "\n",
    "srem key member  # 删除名称为key的set中的元素member\n",
    "\n",
    "spop key      # 随机返回并删除名称为key的set中的一个元素\n",
    "\n",
    "smove srckey dstkey member # 移到集合元素（将member元素从srckey集合移动到dstkey集合）\n",
    "\n",
    "scard key 返回名称为key的set的个数\n",
    "\n",
    "sismember key member  # member是否为名称为key的set中的元素，返回结果为1或0\n",
    "\n",
    "sinter key1 key2 key3……  求交集\n",
    "\n",
    "sinterstore dstkey key1 key2……   求key1 key2的交集，并将交集保存在dstkey中(可添加多个集合)\n",
    "\n",
    "sunion  key1  key2 [key3 ...]         求并集\n",
    " \n",
    "sunionstore  dstkey  key1 [key2 ...]    求并集并将并集保存到dstkey的集合\n",
    "\n",
    "sdiff  key1 key2 [key3……]          求差集\n",
    "\n",
    "a 1 2 3\n",
    "\n",
    "b 1 3 5\n",
    "\n",
    "sdiff a b  2\n",
    "\n",
    "sdiff b a 5\n",
    "\n",
    "sdiffstore  dstkey  key1 key2 [key3 ...]  求差集并将差集保存到dstkey的集合\n",
    "\n",
    "smembers key  返回名称为key的set的所有元素\n",
    "\n",
    "srandmerber key  随机返回名称为key的set的一个元素\n"
   ]
  },
  {
   "cell_type": "markdown",
   "metadata": {},
   "source": [
    "### 6.哈希操作的命令\n",
    "\n",
    "hset key field value #向名称为key的hash中添加元素\n",
    "\n",
    "hget key  field  #返回名称为key的hash中field对应的value\n",
    " \n",
    "hmget key fields   # 返回名称为key的hash中field i对应的value\n",
    "\n",
    "hmset key fields   # 向名称为key的hash中添加元素field\n",
    "\n",
    "hincrby key  field  integer  将名称为key的hash中field的value增加integer\n",
    "\n",
    "hexists key  field   名称为key的hash中是否存在键为field的域\n",
    "\n",
    "hdel key  field  删除名称为key的hash中键为field的域\n",
    "\n",
    "hlen key   返回名称为key的hash中元素个数\n",
    "\n",
    "hkeys key  返回名称为key的hash中所有键\n",
    " \n",
    "hvals key  返回名称为key的hash中所有键对应的value\n",
    "\n",
    "hgetall key  返回名称为key的hash中所有的键 field 及其对应的value\n",
    "\n"
   ]
  },
  {
   "cell_type": "markdown",
   "metadata": {},
   "source": [
    "### 7.切换数据库"
   ]
  },
  {
   "cell_type": "markdown",
   "metadata": {},
   "source": [
    "redis数据库以索引号标识，默认为0号库\n",
    "\n",
    "select 1 切换到1号库\n",
    "\n",
    "keys * 查看1号库下所有的keys"
   ]
  },
  {
   "cell_type": "markdown",
   "metadata": {},
   "source": [
    "## 6.python 连接redis"
   ]
  },
  {
   "cell_type": "markdown",
   "metadata": {},
   "source": [
    "安装驱动 pip3 install redis\n",
    "\n",
    "pip3 install python-redis"
   ]
  },
  {
   "cell_type": "markdown",
   "metadata": {},
   "source": [
    "***Python代码连接***\n",
    "\n",
    "import redis\n",
    "\n",
    "连接redis  \n",
    "\n",
    "db = redis.Redis()  #默认host=127.0.0.1 port=6379  decode_responses=False\n",
    "\n",
    "db = redis.StrictRedis()\n",
    "\n",
    "数据操作\n",
    "\n",
    "db.set('name','disen')  添加string类型的key-value\n",
    "\n",
    "print(db.get('name')) 读取string类型的key\n",
    "\n",
    "db.lpush('name','disen','jack','rose')\n",
    "\n",
    "print(db.lrange('name',0,-1))\n",
    "\n",
    "db.save()"
   ]
  }
 ],
 "metadata": {
  "kernelspec": {
   "display_name": "Python 3",
   "language": "python",
   "name": "python3"
  },
  "language_info": {
   "codemirror_mode": {
    "name": "ipython",
    "version": 3
   },
   "file_extension": ".py",
   "mimetype": "text/x-python",
   "name": "python",
   "nbconvert_exporter": "python",
   "pygments_lexer": "ipython3",
   "version": "3.6.1"
  }
 },
 "nbformat": 4,
 "nbformat_minor": 2
}
