{
 "cells": [
  {
   "cell_type": "markdown",
   "metadata": {},
   "source": [
    "# redis笔记整理"
   ]
  },
  {
   "cell_type": "markdown",
   "metadata": {},
   "source": [
    "## 1.描述"
   ]
  },
  {
   "cell_type": "markdown",
   "metadata": {},
   "source": [
    "redis(Remote Dictionary Server):非关系型数据库，以键值对的形式进行数据存储（key-value）\n",
    "\n",
    "存储在内存中 ***性能高***  Redis能读的速度是110000次/s,写的速度是81000次/s\n",
    "\n",
    "redis与mongodb的比较\n",
    "\n",
    "1.都是基于c++实现的\n",
    "\n",
    "2.都依赖于内存，但Redis的TPS（吞吐量）比MongoDB高\n",
    "\n",
    "    TPS=并发数/平均响应时间\n",
    "    并发数：系统同时处理的request/事务数\n",
    "    响应时间：一般取平均响应时间\n",
    "\n",
    "3.mongodb提供了丰富的数据表达式，接近SQL,而Redis提供较少的IO\n",
    "\n",
    "4.mongodb 不支持事务，而Redis支持事务，但只保证事务按顺序执行\n",
    "\n",
    "5.mongodb支持Maprrduce(内部数据分析)，redis不支持\n",
    "\n",
    "6.海量数据处理Mongdb优于redis\n",
    "\n",
    "***特性***\n",
    "\n",
    "数据的持久化：可以将内存中的数据保存在磁盘中，重启的时候可以再次加载进行使用。\n",
    "\n",
    "丰富的数据类型：不仅仅支持简单的key-value类型的数据，同时还提供list，set，zset，hash等数据结构的存储。\n",
    "\n",
    "数据的备份：即master-slave模式的数据备份。\n"
   ]
  },
  {
   "cell_type": "markdown",
   "metadata": {},
   "source": [
    "## 2.安装"
   ]
  },
  {
   "cell_type": "markdown",
   "metadata": {},
   "source": [
    "sudo apt install redis-server\n",
    "\n",
    "sudo service redis-server status\n",
    "\n",
    "sudo service redis-server restart\n",
    "\n",
    "ps -ef | grep redis  # 查看redis进程\n",
    "\n",
    "netstat -antp | grep 6379  # 查看redis服务占用的端口"
   ]
  },
  {
   "cell_type": "markdown",
   "metadata": {},
   "source": [
    "## 3.进入redis环境"
   ]
  },
  {
   "cell_type": "markdown",
   "metadata": {},
   "source": [
    "redis-cli  进入redis环境\n",
    "\n",
    "redis-cli -h 127.0.0.1 -p 6379  #指定ip地址和端口\n",
    "\n",
    "-r n 代表将命令重复执行n次\n",
    "\n",
    "-i n 每隔n秒执行一次命令，必须与-r同时使用\n",
    "\n",
    "redis-cli -r 3 -i 0.1\n",
    "\n",
    "redis-cli -r 5 -i 1 info | grep used_memory_human\n",
    "\n",
    "每隔1秒查询内存使用概况，一共查询5次\n",
    "\n",
    "-a <passwd>  指定密码登录  redis-cli get passwd  查看密码\n",
    "\n",
    "redis-cli info cpu  查看redis服务的cpu使用情况\n",
    "\n",
    "exit/quit\n"
   ]
  },
  {
   "cell_type": "markdown",
   "metadata": {},
   "source": [
    "## 4.redis配置文件"
   ]
  },
  {
   "cell_type": "markdown",
   "metadata": {},
   "source": [
    "配置文件路径\n",
    "\n",
    "/etc/redis/redis.conf\n",
    "\n",
    "sudo vi /etc/redis/redis.conf"
   ]
  },
  {
   "cell_type": "markdown",
   "metadata": {},
   "source": [
    "***功能***\n",
    "\n",
    "设置密码\n",
    "\n",
    "    修改requirepass为登录密码\n",
    "    \n",
    "    requirepass disen888   设置密码\n",
    "    \n",
    "    重启服务  sudo service redis-server restart\n",
    "    \n",
    "    使用口令登录\n",
    "    \n",
    "    redis-cli -a disen888\n",
    "    \n",
    "绑定主机地址\n",
    "    \n",
    "    修改bind的127.0.0.1为1的本地实际ip地址\n",
    "    \n",
    "    重启服务：sudo service redis-server restart\n",
    "    \n",
    "    指定ip连接redis: redis-cli -h 10.35.163.5\n",
    "    \n",
    "保护模式\n",
    "\n",
    "    redis4.0+ 版本保护模式\n",
    "    \n",
    "    bind 127.0.0.1:: 只限本地连接\n",
    "    \n",
    "    protected-mode yes  开启保护模式\n",
    "    "
   ]
  },
  {
   "cell_type": "markdown",
   "metadata": {},
   "source": [
    "## 5.基本操作"
   ]
  },
  {
   "cell_type": "markdown",
   "metadata": {},
   "source": []
  }
 ],
 "metadata": {
  "kernelspec": {
   "display_name": "Python 3",
   "language": "python",
   "name": "python3"
  },
  "language_info": {
   "codemirror_mode": {
    "name": "ipython",
    "version": 3
   },
   "file_extension": ".py",
   "mimetype": "text/x-python",
   "name": "python",
   "nbconvert_exporter": "python",
   "pygments_lexer": "ipython3",
   "version": "3.6.1"
  }
 },
 "nbformat": 4,
 "nbformat_minor": 2
}
