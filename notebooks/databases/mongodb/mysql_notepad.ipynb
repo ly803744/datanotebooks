{
 "cells": [
  {
   "cell_type": "markdown",
   "metadata": {
    "collapsed": true
   },
   "source": [
    "# MongoDB笔记整理"
   ]
  },
  {
   "cell_type": "markdown",
   "metadata": {},
   "source": [
    "## 1.MongoDB的描述"
   ]
  },
  {
   "cell_type": "markdown",
   "metadata": {},
   "source": [
    "MongoDB的设计目标是高性能、可扩展、易部署、易使用、存储数据非常方便;"
   ]
  },
  {
   "cell_type": "markdown",
   "metadata": {},
   "source": [
    "介于关系数据库和非关系数据库之间的产品，是非关系数据库当中功能最丰富，最像关系数据库的;"
   ]
  },
  {
   "cell_type": "markdown",
   "metadata": {},
   "source": [
    "支持的查询语句非常强大，其语法类似于查询语言;"
   ]
  },
  {
   "cell_type": "markdown",
   "metadata": {},
   "source": [
    "支持对数据建立索引"
   ]
  },
  {
   "cell_type": "markdown",
   "metadata": {},
   "source": [
    "## 2.MongoDB安装"
   ]
  },
  {
   "cell_type": "markdown",
   "metadata": {},
   "source": [
    "sudo apt install mongodb  # 下载安装mongodb数据库"
   ]
  },
  {
   "cell_type": "markdown",
   "metadata": {},
   "source": [
    "mongo -version   #查看mongo的版本"
   ]
  },
  {
   "cell_type": "markdown",
   "metadata": {},
   "source": [
    "service mongodb stop  # 停止mongodb的服务"
   ]
  },
  {
   "cell_type": "markdown",
   "metadata": {},
   "source": [
    "service mongodb start # 启动mongodb的服务"
   ]
  },
  {
   "cell_type": "markdown",
   "metadata": {},
   "source": [
    "pgrep mongo -l  # 查找正在运行程序mongo的pid信息和进程名（查看mongodb是否安装成功）"
   ]
  },
  {
   "cell_type": "markdown",
   "metadata": {},
   "source": [
    "ps -ef | grep mong  # 显示mongo的进程信息"
   ]
  },
  {
   "cell_type": "markdown",
   "metadata": {},
   "source": [
    "默认端口  27017"
   ]
  },
  {
   "cell_type": "markdown",
   "metadata": {},
   "source": [
    "sudo apt-get --purge remove mongodb mongodb-clients mongodb-server  #下载mongodb"
   ]
  },
  {
   "cell_type": "markdown",
   "metadata": {},
   "source": [
    "## 3.基本概念"
   ]
  },
  {
   "cell_type": "markdown",
   "metadata": {},
   "source": [
    "### 1.文档"
   ]
  },
  {
   "cell_type": "markdown",
   "metadata": {},
   "source": [
    "文档是MongoDB中数据的基本单位，类似于关系数据库中的行"
   ]
  },
  {
   "cell_type": "markdown",
   "metadata": {},
   "source": [
    "多个键及其关联的值有序地放在一起构成了文档"
   ]
  },
  {
   "cell_type": "markdown",
   "metadata": {},
   "source": [
    "如：{\"name\":\"disen\",\"_id\":123}  支持的数据类型：字符类型、整型、浮点型、布尔型等"
   ]
  },
  {
   "cell_type": "markdown",
   "metadata": {},
   "source": [
    "### 2.集合"
   ]
  },
  {
   "cell_type": "markdown",
   "metadata": {},
   "source": [
    "集合是一组文档，类似于关系数据中的表"
   ]
  },
  {
   "cell_type": "markdown",
   "metadata": {},
   "source": [
    "集合是无模式的，集合中的文档可以是各式各样的，集合可以存放各式各样的文档。"
   ]
  },
  {
   "cell_type": "markdown",
   "metadata": {},
   "source": [
    "为了方便查询，可以将结构相同的文档存放在同一个集合中"
   ]
  },
  {
   "cell_type": "markdown",
   "metadata": {},
   "source": [
    "### 3.数据库"
   ]
  },
  {
   "cell_type": "markdown",
   "metadata": {},
   "source": [
    "由多个文档组成集合，多个集合组成数据库，一个Mongodb实例可以存放多个数据库"
   ]
  },
  {
   "cell_type": "markdown",
   "metadata": {},
   "source": [
    "每个数据库都是独立的，即都有独立的权限控制"
   ]
  },
  {
   "cell_type": "markdown",
   "metadata": {},
   "source": [
    "在磁盘中，不同的数据库存放在不同的文件中"
   ]
  },
  {
   "cell_type": "markdown",
   "metadata": {},
   "source": [
    "MongoDB中已存在的系统数据库  admin数据库   local数据库"
   ]
  },
  {
   "cell_type": "markdown",
   "metadata": {},
   "source": [
    "## 4.MongoDB的基本操作"
   ]
  },
  {
   "cell_type": "markdown",
   "metadata": {},
   "source": [
    "### 1.基本命令"
   ]
  },
  {
   "cell_type": "markdown",
   "metadata": {},
   "source": [
    "mongo     # 进入mongodb环境中"
   ]
  },
  {
   "cell_type": "markdown",
   "metadata": {},
   "source": [
    "show dbs     # 显示数据库列表"
   ]
  },
  {
   "cell_type": "markdown",
   "metadata": {},
   "source": [
    "show collections  # 显示当前数据库中的集合（类似关系数据库中的表table）"
   ]
  },
  {
   "cell_type": "markdown",
   "metadata": {},
   "source": [
    "use 库名（youdb）  # 切换当前数据库到youdb，或者该库没有时会创建新的库"
   ]
  },
  {
   "cell_type": "markdown",
   "metadata": {},
   "source": [
    "db.createCollection(\"集合名\")  # 创建集合"
   ]
  },
  {
   "cell_type": "markdown",
   "metadata": {},
   "source": [
    "db.集合名.drop()  # 删除指定集合"
   ]
  },
  {
   "cell_type": "markdown",
   "metadata": {},
   "source": [
    "db.help()  # 显示数据库操作命令"
   ]
  },
  {
   "cell_type": "markdown",
   "metadata": {},
   "source": [
    "### 2.数据操作"
   ]
  },
  {
   "cell_type": "markdown",
   "metadata": {},
   "source": [
    "***插入数据***  \n",
    "db.集合名.insert({_id:1,name\"'disen',age:20\"})\n",
    "db.集合名.save({_id:1,name:'disen',age:19})\n",
    "都会自动创建_id值，如果_id已经存在，insert不做任何操作，save会更新"
   ]
  },
  {
   "cell_type": "markdown",
   "metadata": {},
   "source": [
    "***查找数据***"
   ]
  },
  {
   "cell_type": "markdown",
   "metadata": {},
   "source": [
    "db.集合名.find()  # 查询所有记录"
   ]
  },
  {
   "cell_type": "markdown",
   "metadata": {},
   "source": [
    "db.集合名.find().pretty()   #查询所有的记录并友好的显示出来，pretty是以格式\n",
    "化的方式显示文档信息"
   ]
  },
  {
   "cell_type": "markdown",
   "metadata": {},
   "source": [
    "db.集合名.find({},{name:1,age:1}) # 显示所有记录的name和age,1.要显示的key \n",
    "0:不要显示的key  主要：要么都为1，要么都为0"
   ]
  },
  {
   "cell_type": "markdown",
   "metadata": {},
   "source": [
    "db.集合名.find({name:'disen'})  # 查找name等于disen的元素"
   ]
  },
  {
   "cell_type": "markdown",
   "metadata": {},
   "source": [
    "db.集合名.find({name:'disen',age:'20'})  # 查找name等于disen,age等于20的元素"
   ]
  },
  {
   "cell_type": "markdown",
   "metadata": {},
   "source": [
    "db.集合名.find({$or: [{age: 22}, {age: 25}]}) # 显示年龄等于22或25的所有的信息"
   ]
  },
  {
   "cell_type": "markdown",
   "metadata": {},
   "source": [
    "db.集合名.find({\"age\":{$gt:20}})     # 查找年龄大于20的所有信息"
   ]
  },
  {
   "cell_type": "markdown",
   "metadata": {},
   "source": [
    "$lt  小于 <   $lte  小于等于<=   $gt  大于  >  \n",
    "$gte  大于等于  >=      $ne    不等于  ！="
   ]
  },
  {
   "cell_type": "markdown",
   "metadata": {},
   "source": [
    "db.集合名.find({age:{$lt:30,$gt:20}})  # 查找年龄小于30大于20的所有信息"
   ]
  },
  {
   "cell_type": "markdown",
   "metadata": {},
   "source": [
    "db.集合名.find(_id:{$in:[1,3,5]})  # 显示_id为1,3和5的文档记录"
   ]
  },
  {
   "cell_type": "markdown",
   "metadata": {},
   "source": [
    "db.集合名.find({name:{$regex:\"y\"}})  # 查看name的key中的包含y字符的所有文档记录"
   ]
  },
  {
   "cell_type": "markdown",
   "metadata": {},
   "source": [
    "db.集合名.find().sort({age:1})  # 查找所有，并按age升序排列  1升序  -1 降序"
   ]
  },
  {
   "cell_type": "markdown",
   "metadata": {},
   "source": [
    "***修改数据***"
   ]
  },
  {
   "cell_type": "markdown",
   "metadata": {},
   "source": [
    "db.集合名.update(criteria,objNew,upsert,multi)\n",
    "criteria:update的查询条件\n",
    "objNew:update的对象和一些更新的操作符（如$set）等\n",
    "upsert：如果不存在update的记录，是否插入objNew,true为插入，默认为false,不插入\n",
    "multi:mongodb默认是false,只更新找到的第一条记录，如果为ture,按条件查出来多条记\n",
    "录全部更新"
   ]
  },
  {
   "cell_type": "markdown",
   "metadata": {},
   "source": [
    "db.集合名.update({name:'disen'},{$set:{age:30}},false,true)"
   ]
  },
  {
   "cell_type": "markdown",
   "metadata": {},
   "source": [
    "***删除数据***"
   ]
  },
  {
   "cell_type": "markdown",
   "metadata": {},
   "source": [
    "db.集合名.remove({name:'cici'})  # 删除name等于cicid的这一条记录"
   ]
  },
  {
   "cell_type": "markdown",
   "metadata": {},
   "source": [
    "### 5.扩展"
   ]
  },
  {
   "cell_type": "markdown",
   "metadata": {},
   "source": [
    "load(\"/home/apple/addbank.js\")  # 执行脚本\n",
    "脚本路径必须是绝对路径"
   ]
  },
  {
   "cell_type": "markdown",
   "metadata": {},
   "source": [
    "db.bank.insert({_id:1,name:\"abc\",address:\"ccddddhh\"})\n",
    "db.bank.insert({_id:2,name:\"bcd\",address:\"ffffddd\"})"
   ]
  },
  {
   "cell_type": "markdown",
   "metadata": {},
   "source": [
    "### 6.Python与MongoDB的交互"
   ]
  },
  {
   "cell_type": "markdown",
   "metadata": {},
   "source": [
    "***1.安装pymongo python 库***\n",
    "\n",
    "pip install pymongo  "
   ]
  },
  {
   "cell_type": "markdown",
   "metadata": {},
   "source": [
    "***2.使用MongoClient***"
   ]
  },
  {
   "cell_type": "markdown",
   "metadata": {},
   "source": [
    "from pymongo inport MongoClient   # 导入包"
   ]
  },
  {
   "cell_type": "markdown",
   "metadata": {},
   "source": [
    "client = MongoClient()    "
   ]
  },
  {
   "cell_type": "markdown",
   "metadata": {},
   "source": [
    "连接默认主机和端口，也可以默认指定主机和端口\n",
    "\n",
    "client=MongoClient(\"localhost\",27017)\n",
    "\n",
    "client=MongoClient(\"mongodb://1ocalhost:27017/\")\n"
   ]
  },
  {
   "cell_type": "markdown",
   "metadata": {},
   "source": [
    "***3.获取数据库***\n",
    "\n",
    "db = client.pythondb"
   ]
  },
  {
   "cell_type": "markdown",
   "metadata": {},
   "source": [
    "***4.获取集合***\n",
    "\n",
    "collection =db.python_collection"
   ]
  }
 ],
 "metadata": {
  "kernelspec": {
   "display_name": "Python 3",
   "language": "python",
   "name": "python3"
  },
  "language_info": {
   "codemirror_mode": {
    "name": "ipython",
    "version": 3
   },
   "file_extension": ".py",
   "mimetype": "text/x-python",
   "name": "python",
   "nbconvert_exporter": "python",
   "pygments_lexer": "ipython3",
   "version": "3.6.1"
  }
 },
 "nbformat": 4,
 "nbformat_minor": 2
}
