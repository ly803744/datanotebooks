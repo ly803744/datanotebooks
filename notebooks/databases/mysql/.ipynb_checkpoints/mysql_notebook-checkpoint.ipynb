{
 "cells": [
  {
   "cell_type": "markdown",
   "metadata": {},
   "source": [
    "# mysql数据库笔记"
   ]
  },
  {
   "cell_type": "markdown",
   "metadata": {},
   "source": [
    "## 1.mysql概述"
   ]
  },
  {
   "cell_type": "markdown",
   "metadata": {},
   "source": [
    "Mysql是最流行的关系型数据库管理系统，在Web应用方面是最好的RDBMS(Relational Database Management System)。"
   ]
  },
  {
   "cell_type": "markdown",
   "metadata": {},
   "source": [
    "***RDBMS的一些术语***"
   ]
  },
  {
   "cell_type": "markdown",
   "metadata": {},
   "source": [
    "***数据库***：数据库是一些关联表表的集合。"
   ]
  },
  {
   "cell_type": "markdown",
   "metadata": {},
   "source": [
    "***数据表***：表是数据的矩阵，在一个数据库中的表看起来像一个简单的电子表格。"
   ]
  },
  {
   "cell_type": "markdown",
   "metadata": {},
   "source": [
    "***列***：一列（数据元素）包含了相同的数据，例如邮政编码的数据"
   ]
  },
  {
   "cell_type": "markdown",
   "metadata": {},
   "source": [
    "***行***：一行（=元组，或记录）是一组相关的数据，例如一条用户订阅的数据"
   ]
  },
  {
   "cell_type": "markdown",
   "metadata": {},
   "source": [
    "***主键***：主键是唯一的，一个数据表中只能包含一个主键，你可以使用主键来查询数据。"
   ]
  },
  {
   "cell_type": "markdown",
   "metadata": {},
   "source": [
    "***外键***：外键用于关联两个表"
   ]
  },
  {
   "cell_type": "markdown",
   "metadata": {},
   "source": [
    "***符合键***：复合键（组合键）将多个列作为一个索引键，一般用于符合索引。"
   ]
  },
  {
   "cell_type": "markdown",
   "metadata": {},
   "source": [
    "***索引***：使用索引可快速访问数据库表中的特定信息。索引是对数据库表中一类或多列的值进行排序的一种结构，类似于数据的目录。"
   ]
  },
  {
   "cell_type": "markdown",
   "metadata": {},
   "source": [
    "***特点***"
   ]
  },
  {
   "cell_type": "markdown",
   "metadata": {},
   "source": [
    "支持开源的；\n",
    "\n",
    "支持大型数据库，可以处理拥有上千万条记录的大型数据库；\n",
    "\n",
    "使用标准的SQL数据语言形式；\n",
    "\n",
    "可以应用于多个操作系统，支持多种语言；"
   ]
  },
  {
   "cell_type": "markdown",
   "metadata": {},
   "source": [
    "## 2.mysql的安装和启动"
   ]
  },
  {
   "cell_type": "markdown",
   "metadata": {},
   "source": [
    "sudo apt install mysql-server  # 服务端"
   ]
  },
  {
   "cell_type": "markdown",
   "metadata": {},
   "source": []
  }
 ],
 "metadata": {
  "kernelspec": {
   "display_name": "Python 3",
   "language": "python",
   "name": "python3"
  },
  "language_info": {
   "codemirror_mode": {
    "name": "ipython",
    "version": 3
   },
   "file_extension": ".py",
   "mimetype": "text/x-python",
   "name": "python",
   "nbconvert_exporter": "python",
   "pygments_lexer": "ipython3",
   "version": "3.6.1"
  }
 },
 "nbformat": 4,
 "nbformat_minor": 2
}
