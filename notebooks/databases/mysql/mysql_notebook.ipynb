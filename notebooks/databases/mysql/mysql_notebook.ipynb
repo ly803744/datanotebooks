{
 "cells": [
  {
   "cell_type": "markdown",
   "metadata": {},
   "source": [
    "# mysql数据库笔记"
   ]
  },
  {
   "cell_type": "markdown",
   "metadata": {},
   "source": [
    "## 1.mysql概述"
   ]
  },
  {
   "cell_type": "markdown",
   "metadata": {},
   "source": [
    "Mysql是最流行的关系型数据库管理系统，在Web应用方面是最好的RDBMS(Relational Database Management System)。"
   ]
  },
  {
   "cell_type": "markdown",
   "metadata": {},
   "source": [
    "***RDBMS的一些术语***"
   ]
  },
  {
   "cell_type": "markdown",
   "metadata": {},
   "source": [
    "***数据库***：数据库是一些关联表表的集合。"
   ]
  },
  {
   "cell_type": "markdown",
   "metadata": {},
   "source": [
    "***数据表***：表是数据的矩阵，在一个数据库中的表看起来像一个简单的电子表格。"
   ]
  },
  {
   "cell_type": "markdown",
   "metadata": {},
   "source": [
    "***列***：一列（数据元素）包含了相同的数据，例如邮政编码的数据"
   ]
  },
  {
   "cell_type": "markdown",
   "metadata": {},
   "source": [
    "***行***：一行（=元组，或记录）是一组相关的数据，例如一条用户订阅的数据"
   ]
  },
  {
   "cell_type": "markdown",
   "metadata": {},
   "source": [
    "***主键***：主键是唯一的，一个数据表中只能包含一个主键，你可以使用主键来查询数据。"
   ]
  },
  {
   "cell_type": "markdown",
   "metadata": {},
   "source": [
    "***外键***：外键用于关联两个表"
   ]
  },
  {
   "cell_type": "markdown",
   "metadata": {},
   "source": [
    "***符合键***：复合键（组合键）将多个列作为一个索引键，一般用于符合索引。"
   ]
  },
  {
   "cell_type": "markdown",
   "metadata": {},
   "source": [
    "***索引***：使用索引可快速访问数据库表中的特定信息。索引是对数据库表中一类或多列的值进行排序的一种结构，类似于数据的目录。"
   ]
  },
  {
   "cell_type": "markdown",
   "metadata": {},
   "source": [
    "***特点***"
   ]
  },
  {
   "cell_type": "markdown",
   "metadata": {},
   "source": [
    "支持开源的；\n",
    "\n",
    "支持大型数据库，可以处理拥有上千万条记录的大型数据库；\n",
    "\n",
    "使用标准的SQL数据语言形式；\n",
    "\n",
    "可以应用于多个操作系统，支持多种语言；"
   ]
  },
  {
   "cell_type": "markdown",
   "metadata": {},
   "source": [
    "## 2.mysql的安装卸载及编码问题等"
   ]
  },
  {
   "cell_type": "markdown",
   "metadata": {},
   "source": [
    "sudo apt install mysql-server  # 服务端"
   ]
  },
  {
   "cell_type": "markdown",
   "metadata": {},
   "source": [
    "sudo apt install mysql-server  # 客户端"
   ]
  },
  {
   "cell_type": "markdown",
   "metadata": {},
   "source": [
    "netstat -antp |grep 3306  # 查看3306的端口"
   ]
  },
  {
   "cell_type": "markdown",
   "metadata": {},
   "source": [
    "ps aux | grep mysql  # 查看mysql的进程"
   ]
  },
  {
   "cell_type": "markdown",
   "metadata": {},
   "source": [
    "### 1.允许远程访问设置"
   ]
  },
  {
   "cell_type": "markdown",
   "metadata": {},
   "source": [
    "***mysql设置root用户密码***\n",
    "\n",
    "***方法1***：用set password命令\n",
    "首先登录mysql\n",
    "\n",
    "格式：mysql> set password for 用户名@localhost =password('新密码')；\n",
    "\n",
    "例子：mysql> set password for root@localhost = password('123');\n",
    "\n",
    "***方法2***：用update直接编辑user表\n",
    "\n",
    "首先登录mysql\n",
    "mysql>use mysql;\n",
    "mysql>update user set password=password('123') where user='root' and host='localhost';\n",
    "mysql>flush privileges;"
   ]
  },
  {
   "cell_type": "markdown",
   "metadata": {},
   "source": [
    "***为所有登录机器授权***\n",
    "\n",
    "mysql>grant all privileges on *.* to 'root'@'%' identified by 'root'\n",
    "\n",
    "*.*表示所有库的所有对象（表、视图等）\n",
    "\n",
    "identified by 'root用户的口令' \n",
    "mysql>flush privileges  权限立即生效\n"
   ]
  },
  {
   "cell_type": "markdown",
   "metadata": {},
   "source": [
    "***修改配置文件中bind-address为mysql服务器的ip地址***\n",
    "\n",
    "sudo vi /etc/mysql/mysql.conf.d/mysqld.cnf\n",
    "\n",
    "修改bind-adderss=10.35.163.40   修改为自己的ip"
   ]
  },
  {
   "cell_type": "markdown",
   "metadata": {},
   "source": [
    "***重启mysql服务***\n",
    "\n",
    "sudo service mysql restart"
   ]
  },
  {
   "cell_type": "markdown",
   "metadata": {},
   "source": [
    "### 2.解决中文的乱码问题"
   ]
  },
  {
   "cell_type": "markdown",
   "metadata": {},
   "source": [
    "当创建了xxx数据库，创建了xxx表，表中有varchar或者char字符集，往表中插入数据时，输入中文会表报错（编码不对），这时需要：\n",
    "\n",
    "***修改mysql server 的配置文件***\n",
    "\n",
    "sudo vi /etc/mysql/mysql.conf.d/mysqld.cnf\n",
    "\n",
    "在【mysqld】的下方添加 character-set-server = utf8\n"
   ]
  },
  {
   "cell_type": "markdown",
   "metadata": {},
   "source": [
    "***修改mysql client 的配置文件***\n",
    "\n",
    "假如在sudo vi /etc/mysql/conf.d/mysql.cnf\n",
    "\n",
    "在【mysql】下方添加character-set-server = utf8 会造成mysql不能输入中文"
   ]
  },
  {
   "cell_type": "markdown",
   "metadata": {},
   "source": [
    "***重启mysql服务***\n",
    "\n",
    "sudo service mysql restart "
   ]
  },
  {
   "cell_type": "markdown",
   "metadata": {},
   "source": [
    "这时之前创建的文件添加中文依然会报错，需要对表中数据的编码进行修改\n",
    "\n",
    "***修改创建的非utf8编码的表问题***\n",
    "\n",
    "show create table <表名>\n",
    "\n",
    "1.修改表字符集\n",
    "\n",
    "mysql>alter table <表名> default charset=utf8;\n",
    "\n",
    "\n",
    "2.修改表字段字符集\n",
    "\n",
    "mysql>alter table <表名> modify <列名> 类型（长度）character set utf8;\n",
    "\n"
   ]
  },
  {
   "cell_type": "markdown",
   "metadata": {},
   "source": [
    "### 3.重装mysql过程"
   ]
  },
  {
   "cell_type": "markdown",
   "metadata": {},
   "source": [
    "***1.停止mysql服务***\n",
    "\n",
    "sudo service mysql stop\n",
    "\n",
    "***2.删除server和client***\n",
    "\n",
    "sudo apt autoremove --purge mysql-server-5.5\n",
    "\n",
    "sudo apt autotemove mysql-client\n",
    "\n",
    "sudo apt remove mysql-common\n",
    "\n",
    "***3.清理残留数据***\n",
    "\n",
    "dpkg -l| grep ^rc | awk '{print $2}' |sudo xargs dpkg -p\n",
    "\n",
    "***4.重新安装***\n",
    "\n",
    "sudo apt-get install mysql-server\n"
   ]
  },
  {
   "cell_type": "markdown",
   "metadata": {},
   "source": [
    "### 4.进入mysql环境"
   ]
  },
  {
   "cell_type": "markdown",
   "metadata": {},
   "source": [
    "mysql 第一次使用\n",
    "\n",
    "进入后建议修改root的口令\n",
    "\n",
    "use mysql\n",
    "\n",
    "update  user set authentication_string=password(\"root\") where user='root';\n",
    "\n",
    "mysql -uroot -p\n",
    "\n",
    "输入密码\n",
    "\n",
    "以root用户身份进入"
   ]
  },
  {
   "cell_type": "markdown",
   "metadata": {},
   "source": [
    "### 5.数据库的创建、修改与删除"
   ]
  },
  {
   "cell_type": "markdown",
   "metadata": {},
   "source": [
    "show databases       # 查看所有的数据库\n",
    "\n",
    "create database pys    # 创建数据库的pys\n",
    "\n",
    "drop database pys     # 删除数据库的pys\n",
    "\n",
    "use pys            # 打开pys数据库"
   ]
  },
  {
   "cell_type": "markdown",
   "metadata": {},
   "source": [
    "***数据类型***\n",
    "\n",
    "varchar 可变长度数据类型，使用时必须指定长度\n",
    "\n",
    "int  整型，默认的长度为11位，并不是指数据的位数\n",
    "\n",
    "float  小数型，除了长度之外，可以指定小数的位数\n",
    "\n",
    "date/datestamp  日期或日期时间类型\n",
    "\n",
    "text  多行文本类型\n",
    "\n",
    "enum  枚举类型，指定列值的范围\n",
    "\n",
    "json json 数据类型  java脚本对象的数据"
   ]
  },
  {
   "cell_type": "markdown",
   "metadata": {},
   "source": [
    "### 6.表的创建、删除"
   ]
  },
  {
   "cell_type": "markdown",
   "metadata": {},
   "source": [
    "show tables  # 查看数据库中的表\n",
    "\n",
    "create table 表名(字段名1 类型（数据长度）[约束] [comment '列注释']，列名2……)\n",
    "\n",
    "drop table  <表名>   # 删除表名\n",
    "\n",
    "desc <表名>        # 查看表结构\n",
    "\n",
    "show create table 表名  # 查看创建表的sql语句\n",
    "\n",
    "***修改表名***\n",
    "\n",
    "alter table oldtable rename newtable;    # 将表名oldtable改为 newtable\n",
    "\n",
    "***修改列名***\n",
    "\n",
    "alter table fruit change name fname  varchar(32) not null; # 修改fruit表中name列的列名为fname  \n",
    "\n",
    "***修改列结构***\n",
    "\n",
    "alter table fruit modify name varchar(20) not null;  # 修改fruit表中的name变量的结构\n",
    "\n",
    "***添加列***\n",
    "alter table fruit add cnt int(3) default 100;  # 添加一个新的列\n",
    "\n",
    "插入新列时，新列有默认值，前面的数据会自动添加设置的默认值；如果是已有的列，设置了默认值，默认值不会修改之前的记录\n",
    "\n",
    "当插入数据时，会默认使用之前设置的默认值，如果是使用默认值得话，会采用你设置的值\n",
    "\n",
    "*** 删除列***\n",
    "alter table 表名 drop [column] 列名\n"
   ]
  },
  {
   "cell_type": "markdown",
   "metadata": {},
   "source": [
    "### 7.数据的insert /select/update/delete"
   ]
  },
  {
   "cell_type": "markdown",
   "metadata": {},
   "source": [
    "***insert***\n",
    "\n",
    "insert into 表名 [(列名1[,列名2……])] values (列值1[,列值2])；\n",
    "\n",
    "如果列名都不写，则会为所有列添加值\n",
    "\n",
    "insert into 表名 values (列值1，列值2，列值3)；\n",
    "\n",
    "批量插入\n",
    "\n",
    "insert into 表名 values (列值1，列值2),(列值1，列值2)；"
   ]
  },
  {
   "cell_type": "markdown",
   "metadata": {},
   "source": [
    "***select***\n",
    "\n",
    "格:1：select 字段名,字段名2 from 表名 \n",
    "\t[where 条件］[order by 字段名 [AES｜DESC]] [group by 字段名 [having 条件]]  \n",
    "    \n",
    "格式2：select * from 表名 [where 条件]   查询所有记录\n",
    "\n",
    "格式3：select 字段1，字段2 from 表名1  join 表名2 on 连接条件 [where 条件]\n",
    "\n",
    "between 起始值 and 结束值\n",
    "\n",
    "\n",
    "select * from f_order where create_date between \"2018-04-18 16:00:00\" and \"2018-04-18 21:00:00\";\n",
    "\n",
    "like 模糊查询  % 任意多个字符  _任意一个字符\n",
    "\n",
    "select * from f_order where create_date like '%-18%';\n",
    "\n",
    "in()  范围查询\n",
    "\n",
    "***扩展***\n",
    "\n",
    "create view 视图名\n",
    "\n",
    "select * from 视图名"
   ]
  },
  {
   "cell_type": "markdown",
   "metadata": {},
   "source": [
    "***update***\n",
    "\n",
    "update 表名 set 字段1=字段值，字段2=字段值  [where 条件]\n"
   ]
  },
  {
   "cell_type": "markdown",
   "metadata": {},
   "source": [
    "***delete***\n",
    "\n",
    "delete from 表名 [where 条件]"
   ]
  },
  {
   "cell_type": "markdown",
   "metadata": {},
   "source": [
    "### 8.约束\n",
    "\n",
    "五种约束：primary key  主键（唯一且不为空）\n",
    "\n",
    "foreign key  外键（关联外表中的主键值，可以为空）\n",
    "\n",
    "unique  唯一\n",
    "\n",
    "not null 不为空\n",
    "\n",
    "其他约束\n",
    "\n",
    "auto_increment  自动增加，默认步长为1，一张表只能有一个自动增加字段\n",
    "\n",
    "default  默认值\n",
    "\n",
    "***添加与删除主键约束***\n",
    "\n",
    "alter table 表名 modify 列名 类型（长度） primary key\n",
    "\n",
    "alter table 表名 add constraint 约束名 primary key(列名);\n",
    "\n",
    "alter table 表名 drop primary key; 主键上如果存在auto_increment,则删除不了\n",
    "\n",
    "\n",
    "***添加与删除外键约束***\n",
    "\n",
    "创建表在最后一列之后添加\n",
    "\n",
    "constraint 约束名 foreign key(外键列名) references 主表名(主键列名)\n",
    "\n",
    "\n",
    "为已经存在的表添加\n",
    "\n",
    "alter table  表名 add constraint 约束名 foreign key(外键列名) references 主表(主键列名); \n",
    "\n",
    "删除外键约束\n",
    "\n",
    "alter table 表名 drop foreign key 约束名\n",
    "\n",
    "外键的级联操作\n",
    "\n",
    "ON DELETE CASCASE  删除主表数据时，从表数据也随之删除\n",
    "\n",
    "ON UPDATE CASCADE 更新主表数据是，从表数据也随之更新\n",
    "\n",
    "ON DELETE SET NULL  删除主表中的数据时，从表中的数据置为空\n",
    "\n",
    "***添加与删除唯一约束***\n",
    "\n",
    "alter table 表名 add [constraint 约束名] unique(字段名[,字段名2，...])\n",
    "\n",
    "alter table 表名 drop index 约束名"
   ]
  },
  {
   "cell_type": "markdown",
   "metadata": {},
   "source": [
    "### 9.分组与聚合\n",
    "聚合函数\n",
    "sum()  max()  min()  count()  avg()\n",
    "\n",
    "select sum(cnt) as cnt ,count(cnt) as cnt,sum(order_money) as order_money from order_view;\n",
    "\n",
    "分组\n",
    "\n",
    "group by  分组语句\n",
    "\n",
    "将指定列的相同的值放在一个组中\n",
    "\n",
    "\n",
    "select\n",
    "count(*) orders,\n",
    "sum(cnt) as sum_cnt,\n",
    "sum(order_money) as order_money,\n",
    "max(order_money) as maxorder_money,\n",
    "min(order_money) as minorder_money\n",
    "from order_view\n",
    "group by fruit_name\n",
    "having count(*) >= 2\n",
    "and sum(order_money) >= 100；\n",
    "\n",
    "sql 语句语句的注释用#\n",
    "\n",
    "执行为source ~/sql/count_order.sql  source +路径"
   ]
  },
  {
   "cell_type": "markdown",
   "metadata": {},
   "source": [
    "### 10.mysql与Python交互\n",
    "\n",
    "pip install pymysql  安装python操作mysql的工具包\n",
    "\n",
    "import pymysql  导入pymysl包\n",
    "\n",
    "***连接数据库***\n",
    "\n",
    "db  = pymysql.connect(host=\"127.0.0.1\",user=\"root\",  password=\"123456\",db=\"test\",port=3306)  \n",
    "\n",
    "获取操作数据库的游标   cursor  = cur = db.cursor()  \n",
    "\n",
    "***查询操作***\n",
    "\n",
    "cursor.execute('select * from person') \n",
    "results =  cursor.fetchall()    #获取查询结果\n",
    "for row in results :  \n",
    "        print(row)\n",
    "        \n",
    "***插入操作***\n",
    "\n",
    "db.autocommit(True) ＃ 自动提交事务\n",
    "cursor.execute(\"insert into person values(1,'disen')\") \n",
    "db.commit() 提交\n",
    "\n",
    "exceute()也可执行创建和修改库与表语句\n",
    "\n",
    "在执行插入、更新和删除语句时，可以用try-except语句，友好地处理错误。\n",
    "\n",
    "使用execute(sql, args) 方法\n",
    "cursor.execute(\"insert into person values(%d,%s)\", (1, 'disen')) \n",
    "db.commit() 提交\n",
    "\n",
    "***更新操作***\n",
    "\n",
    "cursor.execute(\"update person set name='jack' where id = 1\")  \n",
    "db.commit()  \n",
    "\n",
    "***删除操作***\n",
    "\n",
    " cur.execute(\"delete from person where id=1\") "
   ]
  }
 ],
 "metadata": {
  "kernelspec": {
   "display_name": "Python 3",
   "language": "python",
   "name": "python3"
  },
  "language_info": {
   "codemirror_mode": {
    "name": "ipython",
    "version": 3
   },
   "file_extension": ".py",
   "mimetype": "text/x-python",
   "name": "python",
   "nbconvert_exporter": "python",
   "pygments_lexer": "ipython3",
   "version": "3.6.1"
  }
 },
 "nbformat": 4,
 "nbformat_minor": 2
}
