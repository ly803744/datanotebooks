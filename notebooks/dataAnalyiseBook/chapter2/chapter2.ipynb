{
 "cells": [
  {
   "cell_type": "markdown",
   "metadata": {},
   "source": [
    "# 第二章 引言"
   ]
  },
  {
   "cell_type": "markdown",
   "metadata": {},
   "source": [
    "## 1.来自bit.ly的1.usa.gov数据"
   ]
  },
  {
   "cell_type": "markdown",
   "metadata": {},
   "source": [
    "数据集来源：\n",
    "\n",
    "    http://1usagov.measuredvoice.com/2013/"
   ]
  },
  {
   "cell_type": "code",
   "execution_count": 1,
   "metadata": {},
   "outputs": [
    {
     "data": {
      "text/plain": [
       "'{ \"a\": \"Mozilla\\\\/5.0 (iPhone; CPU iPhone OS 6_1 like Mac OS X) AppleWebKit\\\\/536.26 (KHTML, like Gecko) Mobile\\\\/10B141\", \"c\": \"US\", \"nk\": 0, \"tz\": \"America\\\\/New_York\", \"gr\": \"NY\", \"g\": \"18QIXVF\", \"h\": \"18QIXVE\", \"l\": \"fsanewmedia\", \"al\": \"en-us\", \"hh\": \"1.usa.gov\", \"r\": \"http:\\\\/\\\\/t.co\\\\/AFTsMdeDxj\", \"u\": \"http:\\\\/\\\\/studentaid.ed.gov\\\\/prepare-for-college\\\\/choosing-schools\\\\/consider?sf12931238=1#statistics-that-count\", \"t\": 1368825005, \"hc\": 1368819909, \"cy\": \"Geneva\", \"ll\": [ 42.856300, -77.025101 ] }\\n'"
      ]
     },
     "execution_count": 1,
     "metadata": {},
     "output_type": "execute_result"
    }
   ],
   "source": [
    "### 设置文件的路径并命名为path,打开该文件读取第一行 ，根据运行结果可知该数据为json格式（JavaScript Object Notation）\n",
    "path = 'usagov/usagov_bitly_data2013-05-17-1368825005'\n",
    "open(path).readline()"
   ]
  },
  {
   "cell_type": "code",
   "execution_count": 8,
   "metadata": {
    "scrolled": true
   },
   "outputs": [
    {
     "data": {
      "text/plain": [
       "'\\nprint打印结果的第一条\\n<class \\'str\\'> { \"a\": \"Mozilla\\\\/5.0 (iPhone; CPU iPhone OS 6_1 like Mac OS X) AppleWebKit\\\\/536.26 (KHTML,\\nlike Gecko) Version\\\\/6.0 Mobile\\\\/10B143 Safari\\\\/8536.25\", \"c\": \"NZ\", \"nk\": 1, \"tz\": \"Pacific\\\\/Auckland\", \\n\"gr\": \"E7\", \"g\": \"1084Psg\", \"h\": \"1084Psg\", \"l\": \"bitly\", \"al\": \"en-us\", \"hh\": \"j.mp\", \"r\": \"http:\\\\/\\\\/t.\\nco\\\\/orOTdRX5aF\", \"u\": \"http:\\\\/\\\\/science.nasa.gov\\\\/science-news\\\\/science-at-nasa\\\\/2013\\\\/16may_lunarimpact\\\\/\",\\n\"t\": 1368828605, \"hc\": 1368755511, \"cy\": \"Auckland\", \"ll\": [ -36.866699, 174.766693 ] }\\n'"
      ]
     },
     "execution_count": 8,
     "metadata": {},
     "output_type": "execute_result"
    }
   ],
   "source": [
    "import json    #导入json包\n",
    "path = 'usagov/usagov_bitly_data2013-05-17-1368828605.txt'\n",
    "for line in open(path,encoding='utf-8'):  #for循环\n",
    "#     print(type(line),line)\n",
    "    pass\n",
    "\n",
    "'''\n",
    "print打印结果的第一条\n",
    "<class 'str'> { \"a\": \"Mozilla\\/5.0 (iPhone; CPU iPhone OS 6_1 like Mac OS X) AppleWebKit\\/536.26 (KHTML,\n",
    "like Gecko) Version\\/6.0 Mobile\\/10B143 Safari\\/8536.25\", \"c\": \"NZ\", \"nk\": 1, \"tz\": \"Pacific\\/Auckland\", \n",
    "\"gr\": \"E7\", \"g\": \"1084Psg\", \"h\": \"1084Psg\", \"l\": \"bitly\", \"al\": \"en-us\", \"hh\": \"j.mp\", \"r\": \"http:\\/\\/t.\n",
    "co\\/orOTdRX5aF\", \"u\": \"http:\\/\\/science.nasa.gov\\/science-news\\/science-at-nasa\\/2013\\/16may_lunarimpact\\/\",\n",
    "\"t\": 1368828605, \"hc\": 1368755511, \"cy\": \"Auckland\", \"ll\": [ -36.866699, 174.766693 ] }\n",
    "'''"
   ]
  },
  {
   "cell_type": "markdown",
   "metadata": {},
   "source": [
    "#### 字符串与字典格式的相互转换\n",
    "import json\n",
    "\n",
    "a_dict = {'a': 1,  'b': 2}\n",
    "\n",
    "***dumps: dict -> str***\n",
    "\n",
    "a_json = json.dumps(a_dict)\n",
    "\n",
    "print ('dumps: ',)\n",
    "\n",
    "print (a_json, type(a_json))\n",
    "\n",
    "***loads: str -> dict***\n",
    "\n",
    "c_dict = json.loads(a_json)\n",
    "\n",
    "print ('loads: ',)\n",
    "\n",
    "print (c_dict, type(c_dict))\n",
    "\n",
    "\n",
    "执行结果：\n",
    "dumps: \n",
    "{\"a\": 1, \"b\": 2} <class 'str'>\n",
    "loads: \n",
    "{'a': 1, 'b': 2} <class 'dict'>"
   ]
  },
  {
   "cell_type": "code",
   "execution_count": 10,
   "metadata": {},
   "outputs": [
    {
     "name": "stdout",
     "output_type": "stream",
     "text": [
      "{'a': 'Mozilla/5.0 (iPhone; CPU iPhone OS 6_1 like Mac OS X) AppleWebKit/536.26 (KHTML, like Gecko) Version/6.0 Mobile/10B143 Safari/8536.25', 'c': 'NZ', 'nk': 1, 'tz': 'Pacific/Auckland', 'gr': 'E7', 'g': '1084Psg', 'h': '1084Psg', 'l': 'bitly', 'al': 'en-us', 'hh': 'j.mp', 'r': 'http://t.co/orOTdRX5aF', 'u': 'http://science.nasa.gov/science-news/science-at-nasa/2013/16may_lunarimpact/', 't': 1368828605, 'hc': 1368755511, 'cy': 'Auckland', 'll': [-36.866699, 174.766693]} <class 'list'>\n"
     ]
    }
   ],
   "source": [
    "import json    #导入json包\n",
    "path = 'usagov/usagov_bitly_data2013-05-17-1368828605.txt'\n",
    "records = [json.loads(line) for line in open(path,encoding='utf-8')]  #列表推导式\n",
    "print(records[0],type(records))"
   ]
  },
  {
   "cell_type": "code",
   "execution_count": 11,
   "metadata": {},
   "outputs": [
    {
     "name": "stdout",
     "output_type": "stream",
     "text": [
      "Pacific/Auckland\n"
     ]
    }
   ],
   "source": [
    "print(records[0]['tz'])"
   ]
  },
  {
   "cell_type": "markdown",
   "metadata": {},
   "source": [
    "### 1）用纯Python对时区进行计数"
   ]
  },
  {
   "cell_type": "code",
   "execution_count": 13,
   "metadata": {},
   "outputs": [
    {
     "name": "stdout",
     "output_type": "stream",
     "text": [
      "查看前十个时区 <class 'list'> ['Pacific/Auckland', 'Europe/Rome', '', 'America/Los_Angeles', 'Europe/Brussels', 'Europe/Warsaw', 'Africa/Tunis', 'America/New_York', 'America/Denver', 'America/New_York']\n",
      "4524\n",
      "121\n"
     ]
    }
   ],
   "source": [
    "# 列表推导式，for in 判断\n",
    "time_zones = [rec['tz'] for rec in records if 'tz' in rec]\n",
    "print('查看前十个时区',type(time_zones),time_zones[:10])\n",
    "print(len(time_zones))\n",
    "# 查看不重复的元素的个数\n",
    "s_time_zones = set(time_zones)\n",
    "print(len(s_time_zones))"
   ]
  },
  {
   "cell_type": "code",
   "execution_count": 14,
   "metadata": {},
   "outputs": [
    {
     "name": "stdout",
     "output_type": "stream",
     "text": [
      "<class 'dict'>\n",
      "889\n"
     ]
    }
   ],
   "source": [
    "# 用方法统计某一个元素的次数\n",
    "def get_counts(req):\n",
    "    counts={}\n",
    "    for i in req:\n",
    "        if i in counts:\n",
    "            counts[i]+=1\n",
    "        else:\n",
    "            counts[i]=1\n",
    "    return counts\n",
    "\n",
    "counts1 =get_counts(time_zones)\n",
    "print(type(counts1))\n",
    "print(counts1['America/New_York'])"
   ]
  },
  {
   "cell_type": "code",
   "execution_count": 8,
   "metadata": {},
   "outputs": [
    {
     "name": "stdout",
     "output_type": "stream",
     "text": [
      "<class 'list'>\n",
      "--------------------------------------------------------------------\n",
      "[('', 989), ('America/New_York', 889), ('America/Chicago', 792), ('America/Los_Angeles', 563), ('Europe/London', 216), ('America/Denver', 97), ('Asia/Tokyo', 80), ('America/Rainy_River', 62), ('America/Phoenix', 44), ('America/Indianapolis', 41)]\n"
     ]
    }
   ],
   "source": [
    "# 获取前十位的市区及计数值\n",
    "\n",
    "def top_counts(count_dict,n=10):\n",
    "    # 字典生成式返回结果为列表\n",
    "    value_key_pairs = [(tz,count)for tz,count in count_dict.items()]\n",
    "    print(type(value_key_pairs))\n",
    "    print(\"--------------------------------------------------------------------\")\n",
    "    value_key_pairs=dict(value_key_pairs)  # 将列表转换为字典\n",
    "    # 对字典进行排序，默认情况下为reverse=False  【升序】\n",
    "    sort_value_key_pairs=sorted(value_key_pairs.items(),key=lambda x:x[1],reverse=True)\n",
    "#     value_key_pairs.sort()\n",
    "    return sort_value_key_pairs[:n]\n",
    "\n",
    "print(top_counts(counts1))"
   ]
  },
  {
   "cell_type": "code",
   "execution_count": 15,
   "metadata": {},
   "outputs": [
    {
     "name": "stdout",
     "output_type": "stream",
     "text": [
      "[('', 989), ('America/New_York', 889), ('America/Chicago', 792), ('America/Los_Angeles', 563), ('Europe/London', 216), ('America/Denver', 97), ('Asia/Tokyo', 80), ('America/Rainy_River', 62), ('America/Phoenix', 44), ('America/Indianapolis', 41)]\n",
      "----------------------------------------\n",
      "[('Mozilla/5.0 (Windows NT 6.1; WOW64) AppleWebKit/537.31 (KHTML, like Gecko) Chrome/26.0.1410.64 Safari/537.31', 344), ('Mozilla/5.0 (compatible; Semiocast HTTP client; http://semiocast.com/)', 325), ('Mozilla/5.0 (iPhone; CPU iPhone OS 6_1_3 like Mac OS X) AppleWebKit/536.26 (KHTML, like Gecko) Mobile/10B329', 240), ('Mozilla/5.0 (iPad; CPU OS 6_1_3 like Mac OS X) AppleWebKit/536.26 (KHTML, like Gecko) Mobile/10B329', 147), ('Mozilla/5.0 (iPhone; CPU iPhone OS 6_1_4 like Mac OS X) AppleWebKit/536.26 (KHTML, like Gecko) Mobile/10B350', 137)]\n"
     ]
    }
   ],
   "source": [
    "# 简单方法：统计列表中每个元素的频数\n",
    "from collections import Counter\n",
    "counts = Counter(time_zones)\n",
    "print(counts.most_common(10))\n",
    "print(\"----------------------------------------\")\n",
    "a = [rec['a'] for rec in records if 'a' in rec]\n",
    "sa = Counter(a)\n",
    "print(sa.most_common(5))"
   ]
  },
  {
   "cell_type": "markdown",
   "metadata": {},
   "source": [
    "### 2）用Pandas对时区进行计数"
   ]
  },
  {
   "cell_type": "code",
   "execution_count": 18,
   "metadata": {},
   "outputs": [
    {
     "name": "stdout",
     "output_type": "stream",
     "text": [
      "   _heartbeat_                                                  a  \\\n",
      "1          NaN  Mozilla/5.0 (Windows NT 6.1; WOW64) AppleWebKi...   \n",
      "2          NaN  Mozilla/5.0 (Macintosh; Intel Mac OS X 10_8_3)...   \n",
      "\n",
      "                                    al     c    cy       g   gr        h  \\\n",
      "1  it-IT,it;q=0.8,en-US;q=0.6,en;q=0.4    IT  Rome  ZKMN1r   07   ZKMN1q   \n",
      "2                       en-US,en;q=0.8  None   NaN  2cKN5p  NaN  10Kt9Qw   \n",
      "\n",
      "             hc           hh   kw             l                    ll   nk  \\\n",
      "1  1.365700e+09  go.nasa.gov  NaN   nasatwitter  [41.900002, 12.4833]  1.0   \n",
      "2  1.364310e+09    1.usa.gov  NaN  mcpartlandse                   NaN  0.0   \n",
      "\n",
      "                                                   r             t  \\\n",
      "1                             http://t.co/ivHJ3Cvp4b  1.368829e+09   \n",
      "2  http://www.redcrossblood.org/donating-blood/el...  1.368829e+09   \n",
      "\n",
      "            tz                                                  u  \n",
      "1  Europe/Rome  http://www.jpl.nasa.gov/news/news.php?release=...  \n",
      "2                                 http://www.cdc.gov/malaria/map/  \n"
     ]
    }
   ],
   "source": [
    "from pandas import DataFrame,Series\n",
    "import pandas as pd\n",
    "import numpy as np\n",
    "frame = DataFrame(records)\n",
    "print(frame[1:3])"
   ]
  },
  {
   "cell_type": "code",
   "execution_count": 19,
   "metadata": {},
   "outputs": [
    {
     "data": {
      "text/plain": [
       "0       Pacific/Auckland\n",
       "1            Europe/Rome\n",
       "2                       \n",
       "3    America/Los_Angeles\n",
       "4        Europe/Brussels\n",
       "5          Europe/Warsaw\n",
       "6           Africa/Tunis\n",
       "7       America/New_York\n",
       "8         America/Denver\n",
       "9       America/New_York\n",
       "Name: tz, dtype: object"
      ]
     },
     "execution_count": 19,
     "metadata": {},
     "output_type": "execute_result"
    }
   ],
   "source": [
    "frame['tz'][:10]"
   ]
  },
  {
   "cell_type": "code",
   "execution_count": 20,
   "metadata": {},
   "outputs": [
    {
     "data": {
      "text/plain": [
       "                        989\n",
       "America/New_York        889\n",
       "America/Chicago         792\n",
       "America/Los_Angeles     563\n",
       "Europe/London           216\n",
       "America/Denver           97\n",
       "Asia/Tokyo               80\n",
       "America/Rainy_River      62\n",
       "America/Phoenix          44\n",
       "America/Indianapolis     41\n",
       "Name: tz, dtype: int64"
      ]
     },
     "execution_count": 20,
     "metadata": {},
     "output_type": "execute_result"
    }
   ],
   "source": [
    "tz_counts = frame['tz'].value_counts()\n",
    "tz_counts[:10]"
   ]
  },
  {
   "cell_type": "code",
   "execution_count": 21,
   "metadata": {},
   "outputs": [
    {
     "name": "stdout",
     "output_type": "stream",
     "text": [
      "Unknown                989\n",
      "America/New_York       889\n",
      "America/Chicago        792\n",
      "America/Los_Angeles    563\n",
      "Europe/London          216\n",
      "missing                120\n",
      "America/Denver          97\n",
      "Asia/Tokyo              80\n",
      "America/Rainy_River     62\n",
      "America/Phoenix         44\n",
      "Name: tz, dtype: int64\n"
     ]
    }
   ],
   "source": [
    "# fillna可以替换缺失值NA\n",
    "clean_tz=frame['tz'].fillna('missing')    \n",
    "# print(clean_tz)\n",
    "clean_tz[clean_tz == '']='Unknown'\n",
    "tz_counts = clean_tz.value_counts()\n",
    "print(tz_counts[:10])"
   ]
  },
  {
   "cell_type": "code",
   "execution_count": 14,
   "metadata": {},
   "outputs": [
    {
     "data": {
      "image/png": "[encoded data removed]",
      "text/plain": [
       "<matplotlib.figure.Figure at 0x9ad07f0>"
      ]
     },
     "metadata": {},
     "output_type": "display_data"
    }
   ],
   "source": [
    "# 绘制条形图\n",
    "import matplotlib.pyplot as plt            # 导入画图包\n",
    "plt.figure()                               # 设置图布\n",
    "tz_counts[:10].plot(kind='barh',rot=0)     # 画图   \n",
    "plt.show()                                 # 将图显示出来 "
   ]
  },
  {
   "cell_type": "code",
   "execution_count": 17,
   "metadata": {},
   "outputs": [
    {
     "data": {
      "text/plain": [
       "'Mozilla/5.0 (Windows NT 6.1; WOW64) AppleWebKit/537.31 (KHTML, like Gecko) Chrome/26.0.1410.64 Safari/537.31'"
      ]
     },
     "execution_count": 17,
     "metadata": {},
     "output_type": "execute_result"
    }
   ],
   "source": [
    "frame['a'][1]"
   ]
  },
  {
   "cell_type": "code",
   "execution_count": 18,
   "metadata": {},
   "outputs": [
    {
     "data": {
      "text/plain": [
       "'Mozilla/4.0 (compatible; MSIE 7.0; Windows NT 6.2; WOW64; Trident/6.0; .NET4.0E; .NET4.0C; .NET CLR 3.5.30729; .NET CLR 2.0.50727; .NET CLR 3.0.30729; HPDTDFJS; Microsoft Outlook 14.0.6131; ms-office; MSOffice 14)'"
      ]
     },
     "execution_count": 18,
     "metadata": {},
     "output_type": "execute_result"
    }
   ],
   "source": [
    "frame['a'][50]"
   ]
  },
  {
   "cell_type": "code",
   "execution_count": 19,
   "metadata": {},
   "outputs": [
    {
     "data": {
      "text/plain": [
       "'Mozilla/5.0 (Windows NT 5.1) AppleWebKit/534.57.2 (KHTML, like Gecko) Version/5.1.7 Safari/534.57.2'"
      ]
     },
     "execution_count": 19,
     "metadata": {},
     "output_type": "execute_result"
    }
   ],
   "source": [
    "frame['a'][51]"
   ]
  },
  {
   "cell_type": "code",
   "execution_count": 20,
   "metadata": {},
   "outputs": [
    {
     "name": "stdout",
     "output_type": "stream",
     "text": [
      "<class 'pandas.core.series.Series'>\n"
     ]
    },
    {
     "data": {
      "text/plain": [
       "0    Mozilla/5.0\n",
       "1    Mozilla/5.0\n",
       "2    Mozilla/5.0\n",
       "3    Mozilla/4.0\n",
       "4    Mozilla/5.0\n",
       "5    Mozilla/5.0\n",
       "6    Mozilla/5.0\n",
       "7    Mozilla/5.0\n",
       "8    Mozilla/5.0\n",
       "9    Mozilla/5.0\n",
       "dtype: object"
      ]
     },
     "execution_count": 20,
     "metadata": {},
     "output_type": "execute_result"
    }
   ],
   "source": [
    "results = Series([x.split()[0] for x in frame.a.dropna()])\n",
    "print(type(results))\n",
    "results[:10]"
   ]
  },
  {
   "cell_type": "code",
   "execution_count": 21,
   "metadata": {},
   "outputs": [
    {
     "data": {
      "text/plain": [
       "Mozilla/5.0           3974\n",
       "Mozilla/4.0            280\n",
       "ShortLinkTranslate      38\n",
       "CakePHP                 34\n",
       "Dalvik/1.6.0            30\n",
       "Opera/9.80              29\n",
       "Xenu                    24\n",
       "TVersity                24\n",
       "iCoreService            20\n",
       "feedzirra                6\n",
       "dtype: int64"
      ]
     },
     "execution_count": 21,
     "metadata": {},
     "output_type": "execute_result"
    }
   ],
   "source": [
    "# 统计次数\n",
    "results.value_counts()[:10]"
   ]
  },
  {
   "cell_type": "code",
   "execution_count": 22,
   "metadata": {},
   "outputs": [
    {
     "name": "stdout",
     "output_type": "stream",
     "text": [
      "['Not Windows' 'Windows' 'Not Windows' 'Windows' 'Not Windows']\n",
      "<pandas.core.groupby.DataFrameGroupBy object at 0x0000000005A6E160>\n",
      "                     Not Windows  Windows\n",
      "tz                                       \n",
      "                           840.0    149.0\n",
      "Africa/Blantyre              0.0      1.0\n",
      "Africa/Cairo                 0.0      4.0\n",
      "Africa/Casablanca            0.0      2.0\n",
      "Africa/Ceuta                 3.0      1.0\n",
      "Africa/Gaborone              1.0      0.0\n",
      "Africa/Johannesburg          0.0      2.0\n",
      "Africa/Lagos                 0.0      1.0\n",
      "Africa/Nairobi               0.0      3.0\n",
      "Africa/Tripoli               0.0      1.0\n"
     ]
    }
   ],
   "source": [
    "# print(frame)\n",
    "cframe=frame[frame.a.notnull()]\n",
    "# print(cframe[:10])\n",
    "\n",
    "operating_system = np.where(cframe['a'].str.contains('Windows'),                           'Windows','Not Windows')\n",
    "print(operating_system[:5])\n",
    "\n",
    "# 按照是否为windows对时区进行分组\n",
    "by_tz_os = cframe.groupby(['tz',operating_system])\n",
    "print(by_tz_os)\n",
    "# 通过size对分组的结果进行计数，unstack进行重塑，如果没有重塑会将分组的结果显示为一列\n",
    "agg_counts = by_tz_os.size().unstack().fillna(0)\n",
    "print(agg_counts[:10])\n",
    "\n"
   ]
  },
  {
   "cell_type": "code",
   "execution_count": 23,
   "metadata": {},
   "outputs": [
    {
     "name": "stdout",
     "output_type": "stream",
     "text": [
      "tz\n",
      "                       120\n",
      "Africa/Blantyre         27\n",
      "Africa/Cairo           100\n",
      "Africa/Casablanca       75\n",
      "Africa/Ceuta            95\n",
      "Africa/Gaborone         92\n",
      "Africa/Johannesburg     91\n",
      "Africa/Lagos            46\n",
      "Africa/Nairobi          49\n",
      "Africa/Tripoli          23\n",
      "dtype: int64\n"
     ]
    }
   ],
   "source": [
    "# 按照升序进行排列\n",
    "indexer = agg_counts.sum(1).argsort()\n",
    "print(indexer[:10])"
   ]
  },
  {
   "cell_type": "code",
   "execution_count": 24,
   "metadata": {},
   "outputs": [
    {
     "name": "stdout",
     "output_type": "stream",
     "text": [
      "                      Not Windows  Windows\n",
      "tz                                        \n",
      "America/Indianapolis         24.0     17.0\n",
      "America/Phoenix              22.0     22.0\n",
      "America/Rainy_River          42.0     20.0\n",
      "Asia/Tokyo                   75.0      5.0\n",
      "America/Denver               41.0     56.0\n",
      "Europe/London               164.0     52.0\n",
      "America/Los_Angeles         296.0    267.0\n",
      "America/Chicago             363.0    429.0\n",
      "America/New_York            584.0    305.0\n",
      "                            840.0    149.0\n"
     ]
    }
   ],
   "source": [
    "count_subset = agg_counts.take(indexer)[-10:]\n",
    "print(count_subset)"
   ]
  },
  {
   "cell_type": "code",
   "execution_count": 25,
   "metadata": {},
   "outputs": [
    {
     "data": {
      "image/png": "[encoded data removed]",
      "text/plain": [
       "<matplotlib.figure.Figure at 0x9ad0fd0>"
      ]
     },
     "metadata": {},
     "output_type": "display_data"
    }
   ],
   "source": [
    "# stacked=True  生成一张堆积条形图\n",
    "count_subset.plot(kind=\"barh\",stacked=True)\n",
    "plt.show()"
   ]
  },
  {
   "cell_type": "code",
   "execution_count": 26,
   "metadata": {},
   "outputs": [
    {
     "data": {
      "image/png": "[encoded data removed]",
      "text/plain": [
       "<matplotlib.figure.Figure at 0xb8b37f0>"
      ]
     },
     "metadata": {},
     "output_type": "display_data"
    }
   ],
   "source": [
    "# 为了更明显的显示比例\n",
    "normed_subset = count_subset.div(count_subset.sum(1),axis=0)\n",
    "normed_subset.plot(kind=\"barh\",stacked=True)\n",
    "plt.show()"
   ]
  },
  {
   "cell_type": "markdown",
   "metadata": {},
   "source": [
    "## 2.MovieLens1M数据集"
   ]
  },
  {
   "cell_type": "markdown",
   "metadata": {},
   "source": [
    "下载数据来源：   \n",
    "    https://grouplens.org/datasets/movielens/\n",
    "\n",
    "数据集介绍：ml-1m\n",
    "\n",
    "    这个数据集(ml-20m)描述五星级评级和自由文本标记活动 MovieLens ,电影推荐服务。 它包含465564评级在27278部电影和465564标签应用程序。 这些数据是由09年1月之间138493用户,1995年和1995年3月31日。 2016年10月17日,这个数据集生成。"
   ]
  },
  {
   "cell_type": "code",
   "execution_count": 23,
   "metadata": {
    "collapsed": true
   },
   "outputs": [],
   "source": [
    "import pandas as pd\n",
    "unames = ['user_id','gender','age','occupations','zip']\n",
    "# engine=‘Python’指定解释的语言，避免警告提醒ParserWarning\n",
    "users = pd.read_table('ml-1m/users.dat',sep='::',header=None,names=unames,engine ='python')\n",
    "\n",
    "rnames = ['user_id','movie_id','rating','timestamp']\n",
    "ratings = pd.read_table('ml-1m/ratings.dat',sep='::',header=None,names=rnames,engine ='python')\n",
    "\n",
    "mnames = ['movie_id','title','genres']\n",
    "movies = pd.read_table('ml-1m/movies.dat',sep=\"::\",header=None,names=mnames,engine ='python')\n",
    "\n",
    "# ，如果不加engine ='python'，则或警告D：\\ ProgramData \\ Anaconda3 \\ lib \\ site-packages \\ ipykernel_launcher.py：3：ParserWarning：回退到'python'引擎，因为'c'引擎不支持正则表达式分隔符（分隔符> 1个字符，与'\\ s +'被解释为正则表达式）;你可以通过指定engine ='python'来避免这个警告。"
   ]
  },
  {
   "cell_type": "code",
   "execution_count": 25,
   "metadata": {},
   "outputs": [
    {
     "data": {
      "text/html": [
       "<div>\n",
       "<style>\n",
       "    .dataframe thead tr:only-child th {\n",
       "        text-align: right;\n",
       "    }\n",
       "\n",
       "    .dataframe thead th {\n",
       "        text-align: left;\n",
       "    }\n",
       "\n",
       "    .dataframe tbody tr th {\n",
       "        vertical-align: top;\n",
       "    }\n",
       "</style>\n",
       "<table border=\"1\" class=\"dataframe\">\n",
       "  <thead>\n",
       "    <tr style=\"text-align: right;\">\n",
       "      <th></th>\n",
       "      <th>user_id</th>\n",
       "      <th>gender</th>\n",
       "      <th>age</th>\n",
       "      <th>occupations</th>\n",
       "      <th>zip</th>\n",
       "    </tr>\n",
       "  </thead>\n",
       "  <tbody>\n",
       "    <tr>\n",
       "      <th>0</th>\n",
       "      <td>1</td>\n",
       "      <td>F</td>\n",
       "      <td>1</td>\n",
       "      <td>10</td>\n",
       "      <td>48067</td>\n",
       "    </tr>\n",
       "    <tr>\n",
       "      <th>1</th>\n",
       "      <td>2</td>\n",
       "      <td>M</td>\n",
       "      <td>56</td>\n",
       "      <td>16</td>\n",
       "      <td>70072</td>\n",
       "    </tr>\n",
       "    <tr>\n",
       "      <th>2</th>\n",
       "      <td>3</td>\n",
       "      <td>M</td>\n",
       "      <td>25</td>\n",
       "      <td>15</td>\n",
       "      <td>55117</td>\n",
       "    </tr>\n",
       "    <tr>\n",
       "      <th>3</th>\n",
       "      <td>4</td>\n",
       "      <td>M</td>\n",
       "      <td>45</td>\n",
       "      <td>7</td>\n",
       "      <td>02460</td>\n",
       "    </tr>\n",
       "    <tr>\n",
       "      <th>4</th>\n",
       "      <td>5</td>\n",
       "      <td>M</td>\n",
       "      <td>25</td>\n",
       "      <td>20</td>\n",
       "      <td>55455</td>\n",
       "    </tr>\n",
       "  </tbody>\n",
       "</table>\n",
       "</div>"
      ],
      "text/plain": [
       "   user_id gender  age  occupations    zip\n",
       "0        1      F    1           10  48067\n",
       "1        2      M   56           16  70072\n",
       "2        3      M   25           15  55117\n",
       "3        4      M   45            7  02460\n",
       "4        5      M   25           20  55455"
      ]
     },
     "execution_count": 25,
     "metadata": {},
     "output_type": "execute_result"
    }
   ],
   "source": [
    "users[:5]"
   ]
  },
  {
   "cell_type": "code",
   "execution_count": 26,
   "metadata": {},
   "outputs": [
    {
     "data": {
      "text/html": [
       "<div>\n",
       "<style>\n",
       "    .dataframe thead tr:only-child th {\n",
       "        text-align: right;\n",
       "    }\n",
       "\n",
       "    .dataframe thead th {\n",
       "        text-align: left;\n",
       "    }\n",
       "\n",
       "    .dataframe tbody tr th {\n",
       "        vertical-align: top;\n",
       "    }\n",
       "</style>\n",
       "<table border=\"1\" class=\"dataframe\">\n",
       "  <thead>\n",
       "    <tr style=\"text-align: right;\">\n",
       "      <th></th>\n",
       "      <th>user_id</th>\n",
       "      <th>movie_id</th>\n",
       "      <th>rating</th>\n",
       "      <th>timestamp</th>\n",
       "    </tr>\n",
       "  </thead>\n",
       "  <tbody>\n",
       "    <tr>\n",
       "      <th>0</th>\n",
       "      <td>1</td>\n",
       "      <td>1193</td>\n",
       "      <td>5</td>\n",
       "      <td>978300760</td>\n",
       "    </tr>\n",
       "    <tr>\n",
       "      <th>1</th>\n",
       "      <td>1</td>\n",
       "      <td>661</td>\n",
       "      <td>3</td>\n",
       "      <td>978302109</td>\n",
       "    </tr>\n",
       "    <tr>\n",
       "      <th>2</th>\n",
       "      <td>1</td>\n",
       "      <td>914</td>\n",
       "      <td>3</td>\n",
       "      <td>978301968</td>\n",
       "    </tr>\n",
       "    <tr>\n",
       "      <th>3</th>\n",
       "      <td>1</td>\n",
       "      <td>3408</td>\n",
       "      <td>4</td>\n",
       "      <td>978300275</td>\n",
       "    </tr>\n",
       "    <tr>\n",
       "      <th>4</th>\n",
       "      <td>1</td>\n",
       "      <td>2355</td>\n",
       "      <td>5</td>\n",
       "      <td>978824291</td>\n",
       "    </tr>\n",
       "  </tbody>\n",
       "</table>\n",
       "</div>"
      ],
      "text/plain": [
       "   user_id  movie_id  rating  timestamp\n",
       "0        1      1193       5  978300760\n",
       "1        1       661       3  978302109\n",
       "2        1       914       3  978301968\n",
       "3        1      3408       4  978300275\n",
       "4        1      2355       5  978824291"
      ]
     },
     "execution_count": 26,
     "metadata": {},
     "output_type": "execute_result"
    }
   ],
   "source": [
    "ratings[:5]"
   ]
  },
  {
   "cell_type": "code",
   "execution_count": 27,
   "metadata": {},
   "outputs": [
    {
     "data": {
      "text/html": [
       "<div>\n",
       "<style>\n",
       "    .dataframe thead tr:only-child th {\n",
       "        text-align: right;\n",
       "    }\n",
       "\n",
       "    .dataframe thead th {\n",
       "        text-align: left;\n",
       "    }\n",
       "\n",
       "    .dataframe tbody tr th {\n",
       "        vertical-align: top;\n",
       "    }\n",
       "</style>\n",
       "<table border=\"1\" class=\"dataframe\">\n",
       "  <thead>\n",
       "    <tr style=\"text-align: right;\">\n",
       "      <th></th>\n",
       "      <th>movie_id</th>\n",
       "      <th>title</th>\n",
       "      <th>genres</th>\n",
       "    </tr>\n",
       "  </thead>\n",
       "  <tbody>\n",
       "    <tr>\n",
       "      <th>0</th>\n",
       "      <td>1</td>\n",
       "      <td>Toy Story (1995)</td>\n",
       "      <td>Animation|Children's|Comedy</td>\n",
       "    </tr>\n",
       "    <tr>\n",
       "      <th>1</th>\n",
       "      <td>2</td>\n",
       "      <td>Jumanji (1995)</td>\n",
       "      <td>Adventure|Children's|Fantasy</td>\n",
       "    </tr>\n",
       "    <tr>\n",
       "      <th>2</th>\n",
       "      <td>3</td>\n",
       "      <td>Grumpier Old Men (1995)</td>\n",
       "      <td>Comedy|Romance</td>\n",
       "    </tr>\n",
       "    <tr>\n",
       "      <th>3</th>\n",
       "      <td>4</td>\n",
       "      <td>Waiting to Exhale (1995)</td>\n",
       "      <td>Comedy|Drama</td>\n",
       "    </tr>\n",
       "    <tr>\n",
       "      <th>4</th>\n",
       "      <td>5</td>\n",
       "      <td>Father of the Bride Part II (1995)</td>\n",
       "      <td>Comedy</td>\n",
       "    </tr>\n",
       "  </tbody>\n",
       "</table>\n",
       "</div>"
      ],
      "text/plain": [
       "   movie_id                               title                        genres\n",
       "0         1                    Toy Story (1995)   Animation|Children's|Comedy\n",
       "1         2                      Jumanji (1995)  Adventure|Children's|Fantasy\n",
       "2         3             Grumpier Old Men (1995)                Comedy|Romance\n",
       "3         4            Waiting to Exhale (1995)                  Comedy|Drama\n",
       "4         5  Father of the Bride Part II (1995)                        Comedy"
      ]
     },
     "execution_count": 27,
     "metadata": {},
     "output_type": "execute_result"
    }
   ],
   "source": [
    "movies[:5]"
   ]
  },
  {
   "cell_type": "code",
   "execution_count": 28,
   "metadata": {},
   "outputs": [
    {
     "name": "stdout",
     "output_type": "stream",
     "text": [
      "   user_id gender  age  occupations    zip  movie_id  rating  timestamp  \\\n",
      "1        2      M   56           16  70072      1193       5  978298413   \n",
      "2       12      M   25           12  32793      1193       4  978220179   \n",
      "3       15      M   25            7  22903      1193       4  978199279   \n",
      "4       17      M   50            1  95350      1193       5  978158471   \n",
      "\n",
      "                                    title genres  \n",
      "1  One Flew Over the Cuckoo's Nest (1975)  Drama  \n",
      "2  One Flew Over the Cuckoo's Nest (1975)  Drama  \n",
      "3  One Flew Over the Cuckoo's Nest (1975)  Drama  \n",
      "4  One Flew Over the Cuckoo's Nest (1975)  Drama  \n"
     ]
    }
   ],
   "source": [
    "# 合并users和ratings以及movies\n",
    "data = pd.merge(pd.merge(users,ratings),movies)\n",
    "print(data[1:5])"
   ]
  },
  {
   "cell_type": "code",
   "execution_count": 36,
   "metadata": {},
   "outputs": [
    {
     "name": "stdout",
     "output_type": "stream",
     "text": [
      "(3706, 2)\n",
      "gender                                F         M\n",
      "title                                            \n",
      "$1,000,000 Duck (1971)         3.375000  2.761905\n",
      "'Night Mother (1986)           3.388889  3.352941\n",
      "'Til There Was You (1997)      2.675676  2.733333\n",
      "'burbs, The (1989)             2.793478  2.962085\n",
      "...And Justice for All (1979)  3.828571  3.689024\n"
     ]
    }
   ],
   "source": [
    "# 根据性别统计每部电影的平均评分\n",
    "mean_ratings = data.pivot_table('rating',index='title',columns='gender',aggfunc='mean')\n",
    "print(mean_ratings.shape)\n",
    "print(mean_ratings.head())\n",
    "# 该数据的行标为电影名称，列标为性别，内容为电影平均得分  3706*2数量"
   ]
  },
  {
   "cell_type": "code",
   "execution_count": 23,
   "metadata": {},
   "outputs": [
    {
     "name": "stdout",
     "output_type": "stream",
     "text": [
      "title\n",
      "$1,000,000 Duck (1971)                37\n",
      "'Night Mother (1986)                  70\n",
      "'Til There Was You (1997)             52\n",
      "'burbs, The (1989)                   303\n",
      "...And Justice for All (1979)        199\n",
      "1-900 (1994)                           2\n",
      "10 Things I Hate About You (1999)    700\n",
      "101 Dalmatians (1961)                565\n",
      "101 Dalmatians (1996)                364\n",
      "12 Angry Men (1957)                  616\n",
      "dtype: int64\n",
      "Index([''burbs, The (1989)', '10 Things I Hate About You (1999)',\n",
      "       '101 Dalmatians (1961)', '101 Dalmatians (1996)', '12 Angry Men (1957)',\n",
      "       '13th Warrior, The (1999)', '2 Days in the Valley (1996)',\n",
      "       '20,000 Leagues Under the Sea (1954)', '2001: A Space Odyssey (1968)',\n",
      "       '2010 (1984)',\n",
      "       ...\n",
      "       'X-Men (2000)', 'Year of Living Dangerously (1982)',\n",
      "       'Yellow Submarine (1968)', 'You've Got Mail (1998)',\n",
      "       'Young Frankenstein (1974)', 'Young Guns (1988)',\n",
      "       'Young Guns II (1990)', 'Young Sherlock Holmes (1985)',\n",
      "       'Zero Effect (1998)', 'eXistenZ (1999)'],\n",
      "      dtype='object', name='title', length=1214)\n"
     ]
    }
   ],
   "source": [
    "#利用title进行分组，得到每个电影的数量\n",
    "ratings_by_title = data.groupby('title').size()\n",
    "print(ratings_by_title[:10])\n",
    "\n",
    "# 统计该电影数量大于250的电影名称\n",
    "active_titles = ratings_by_title.index[ratings_by_title>250]\n",
    "print(active_titles)"
   ]
  },
  {
   "cell_type": "code",
   "execution_count": 47,
   "metadata": {},
   "outputs": [
    {
     "name": "stdout",
     "output_type": "stream",
     "text": [
      "gender                               F         M\n",
      "title                                           \n",
      "Young Guns (1988)             3.371795  3.425620\n",
      "Young Guns II (1990)          2.934783  2.904025\n",
      "Young Sherlock Holmes (1985)  3.514706  3.363344\n",
      "Zero Effect (1998)            3.864407  3.723140\n",
      "eXistenZ (1999)               3.098592  3.289086\n",
      "(1214, 2)\n"
     ]
    }
   ],
   "source": [
    "mean_ratings = mean_ratings.loc[active_titles,:]\n",
    "print(mean_ratings.tail())\n",
    "print(mean_rating.shape)"
   ]
  },
  {
   "cell_type": "code",
   "execution_count": 51,
   "metadata": {},
   "outputs": [
    {
     "name": "stdout",
     "output_type": "stream",
     "text": [
      "(1214, 2)\n",
      "gender                                                     F         M\n",
      "title                                                                 \n",
      "Close Shave, A (1995)                               4.644444  4.473795\n",
      "Wrong Trousers, The (1993)                          4.588235  4.478261\n",
      "Sunset Blvd. (a.k.a. Sunset Boulevard) (1950)       4.572650  4.464589\n",
      "Wallace & Gromit: The Best of Aardman Animation...  4.563107  4.385075\n",
      "Schindler's List (1993)                             4.562602  4.491415\n",
      "Shawshank Redemption, The (1994)                    4.539075  4.560625\n",
      "Grand Day Out, A (1992)                             4.537879  4.293255\n",
      "To Kill a Mockingbird (1962)                        4.536667  4.372611\n",
      "Creature Comforts (1990)                            4.513889  4.272277\n",
      "Usual Suspects, The (1995)                          4.513317  4.518248\n"
     ]
    }
   ],
   "source": [
    "# 对性别中的女性的评分从高到低进行排序\n",
    "top_famale_ratings = mean_ratings.sort_values(by='F',ascending=False)\n",
    "print(top_famale_ratings.shape)\n",
    "print(top_famale_ratings[:10])"
   ]
  },
  {
   "cell_type": "code",
   "execution_count": 60,
   "metadata": {},
   "outputs": [
    {
     "name": "stdout",
     "output_type": "stream",
     "text": [
      "gender                                         F         M      diff\n",
      "title                                                               \n",
      "Good, The Bad and The Ugly, The (1966)  3.494949  4.221300 -0.726351\n",
      "Kentucky Fried Movie, The (1977)        2.878788  3.555147 -0.676359\n",
      "Dumb & Dumber (1994)                    2.697987  3.336595 -0.638608\n",
      "Longest Day, The (1962)                 3.411765  4.031447 -0.619682\n",
      "Cable Guy, The (1996)                   2.250000  2.863787 -0.613787\n",
      "gender                            F         M      diff\n",
      "title                                                  \n",
      "Dirty Dancing (1987)       3.790378  2.959596  0.830782\n",
      "Jumpin' Jack Flash (1986)  3.254717  2.578358  0.676359\n",
      "Grease (1978)              3.975265  3.367041  0.608224\n",
      "Little Women (1994)        3.870588  3.321739  0.548849\n",
      "Steel Magnolias (1989)     3.901734  3.365957  0.535777\n"
     ]
    }
   ],
   "source": [
    "# 计算南女性平均评分的分歧\n",
    "mean_ratings['diff'] = mean_ratings['F']-mean_ratings['M']\n",
    "# print(mean_ratings[:15])\n",
    "# 对结果进行排序\n",
    "sorted_by_diff = mean_ratings.sort_values(by='diff')    # 默认为升序\n",
    "print(sorted_by_diff[:5])          # 男性更喜欢的电影\n",
    "print(sorted_by_diff[::-1][:5])  # 女性更喜欢的电影\n"
   ]
  },
  {
   "cell_type": "code",
   "execution_count": 74,
   "metadata": {},
   "outputs": [
    {
     "name": "stdout",
     "output_type": "stream",
     "text": [
      "(1214,)\n",
      "title\n",
      "'burbs, The (1989)                   1.107760\n",
      "10 Things I Hate About You (1999)    0.989815\n",
      "101 Dalmatians (1961)                0.982103\n",
      "101 Dalmatians (1996)                1.098717\n",
      "12 Angry Men (1957)                  0.812731\n",
      "Name: rating, dtype: float64\n",
      "title\n",
      "Dumb & Dumber (1994)                     1.321333\n",
      "Blair Witch Project, The (1999)          1.316368\n",
      "Natural Born Killers (1994)              1.307198\n",
      "Tank Girl (1995)                         1.277695\n",
      "Rocky Horror Picture Show, The (1975)    1.260177\n",
      "Name: rating, dtype: float64\n"
     ]
    }
   ],
   "source": [
    "# 只找出分歧最大的电影，不考虑性性别，可以计算评分的方差和标准差\n",
    "# 根据电影名称计算得分数据的标准差\n",
    "rating_std_by_title = data.groupby('title')['rating'].std()\n",
    "# 根据active_title进行过滤       .loc用于基于标签的索引或  .iloc进行位置索引\n",
    "rating_std_by_title = rating_std_by_title.loc[active_titles]\n",
    "print(rating_std_by_title.shape)\n",
    "print(rating_std_by_title[:5])\n",
    "# 按照降序进行排列\n",
    "print(rating_std_by_title.sort_values(ascending=False)[:5])"
   ]
  },
  {
   "cell_type": "markdown",
   "metadata": {},
   "source": [
    "## 3.1880-2010年间全美婴儿姓名"
   ]
  },
  {
   "cell_type": "markdown",
   "metadata": {},
   "source": [
    "数据来源：\n",
    "\n",
    "    http://www.ssa.gov.oact/babynames/limits.htmls?"
   ]
  },
  {
   "cell_type": "code",
   "execution_count": 11,
   "metadata": {},
   "outputs": [
    {
     "name": "stdout",
     "output_type": "stream",
     "text": [
      "(1999, 1)\n",
      "        Mary,F,7065\n",
      "0       Anna,F,2604\n",
      "1       Emma,F,2003\n",
      "2  Elizabeth,F,1939\n",
      "3     Minnie,F,1746\n",
      "4   Margaret,F,1578\n",
      "        name sex  birth\n",
      "0       Mary   F   7065\n",
      "1       Anna   F   2604\n",
      "2       Emma   F   2003\n",
      "3  Elizabeth   F   1939\n",
      "4     Minnie   F   1746\n"
     ]
    }
   ],
   "source": [
    "# 读取数据\n",
    "import pandas as pd\n",
    "# 该数据为1880年美国出生婴儿的姓名，性别，生日\n",
    "names = pd.read_table('names/yob1880.txt')\n",
    "print(babynames.shape)\n",
    "print(names.head())\n",
    "names1880 = pd.read_table('names/yob1880.txt',sep = ',',names=['name','sex','birth'])\n",
    "# names1880 = pd.read_csv('names/yob1880.txt',names=['name','sex','birth'])\n",
    "print(names1880.head())"
   ]
  },
  {
   "cell_type": "code",
   "execution_count": 14,
   "metadata": {},
   "outputs": [
    {
     "name": "stdout",
     "output_type": "stream",
     "text": [
      "sex\n",
      "F     942\n",
      "M    1058\n",
      "Name: birth, dtype: int64\n",
      "sex\n",
      "F     90993\n",
      "M    110491\n",
      "Name: birth, dtype: int64\n"
     ]
    }
   ],
   "source": [
    "# 根据性别分组，统计每个性别的人数\n",
    "print(names1880.groupby('sex').birth.count())\n",
    "# 根据性别对出生日期进行求和\n",
    "print(names1880.groupby('sex').birth.sum())"
   ]
  },
  {
   "cell_type": "code",
   "execution_count": 33,
   "metadata": {},
   "outputs": [
    {
     "name": "stdout",
     "output_type": "stream",
     "text": [
      "(1924665, 4)\n",
      "        name sex  births  years\n",
      "0       Mary   F    7065   1880\n",
      "1       Anna   F    2604   1880\n",
      "2       Emma   F    2003   1880\n",
      "3  Elizabeth   F    1939   1880\n",
      "4     Minnie   F    1746   1880\n"
     ]
    }
   ],
   "source": [
    "# 2017是目前统计的截止的有效年份\n",
    "\n",
    "years = range(1880,2018)\n",
    "\n",
    "pieces = []\n",
    "\n",
    "columns = ['name','sex','births']\n",
    "\n",
    "for year in years:\n",
    "    path='names/yob%d.txt' %year\n",
    "    frame = pd.read_csv(path,names=columns)\n",
    "    frame['years'] = year                    # 添加新列years，值设置为year\n",
    "    pieces.append(frame)\n",
    "names = pd.concat(pieces,ignore_index=True)\n",
    "print(names.shape)\n",
    "print(names.head())"
   ]
  },
  {
   "cell_type": "code",
   "execution_count": 37,
   "metadata": {},
   "outputs": [
    {
     "name": "stdout",
     "output_type": "stream",
     "text": [
      "sex          F        M\n",
      "years                  \n",
      "2013   1750321  1886989\n",
      "2014   1781072  1915239\n",
      "2015   1778883  1909804\n",
      "2016   1763916  1889052\n",
      "2017   1711811  1834490\n"
     ]
    }
   ],
   "source": [
    "# 数据名.pivot(计算的数据，行标，列表，aggfunc=函数)\n",
    "total_births =names.pivot_table('births',index='years',columns='sex',aggfunc=sum)\n",
    "print(total_births.tail())"
   ]
  },
  {
   "cell_type": "code",
   "execution_count": 50,
   "metadata": {},
   "outputs": [
    {
     "data": {
      "image/png": "[encoded data removed]",
      "text/plain": [
       "<matplotlib.figure.Figure at 0x26f1d320>"
      ]
     },
     "metadata": {},
     "output_type": "display_data"
    },
    {
     "name": "stdout",
     "output_type": "stream",
     "text": [
      "        name sex  births  years      prop\n",
      "0       Mary   F    7065   1880  0.077643\n",
      "1       Anna   F    2604   1880  0.028618\n",
      "2       Emma   F    2003   1880  0.022013\n",
      "3  Elizabeth   F    1939   1880  0.021309\n",
      "4     Minnie   F    1746   1880  0.019188\n"
     ]
    }
   ],
   "source": [
    "import matplotlib.pyplot as plt \n",
    "total_births.plot(title='Total births by sex and year')     # 添加图标题\n",
    "plt.show()\n",
    "def add_group(group):\n",
    "    births = group.births.astype(float)\n",
    "    group['prop'] = births / births.sum()\n",
    "    return group\n",
    "names = names.groupby(['years','sex']).apply(add_group)\n",
    "sort_names = names.sort_values(by='prop',ascending=False)\n",
    "print(names.head())"
   ]
  },
  {
   "cell_type": "code",
   "execution_count": 52,
   "metadata": {},
   "outputs": [
    {
     "data": {
      "text/plain": [
       "True"
      ]
     },
     "execution_count": 52,
     "metadata": {},
     "output_type": "execute_result"
    }
   ],
   "source": [
    "# 验证prop数据和是否为1\n",
    "import numpy as np\n",
    "np.allclose(names.groupby(['years','sex']).prop.sum(),1)"
   ]
  },
  {
   "cell_type": "code",
   "execution_count": 61,
   "metadata": {},
   "outputs": [
    {
     "name": "stdout",
     "output_type": "stream",
     "text": [
      "                  name sex  births  years      prop\n",
      "years sex                                          \n",
      "1880  F   0       Mary   F    7065   1880  0.077643\n",
      "          1       Anna   F    2604   1880  0.028618\n",
      "          2       Emma   F    2003   1880  0.022013\n",
      "          3  Elizabeth   F    1939   1880  0.021309\n",
      "          4     Minnie   F    1746   1880  0.019188\n"
     ]
    }
   ],
   "source": [
    "# 每个sex与year组合的前100个名字\n",
    "def get_top1000(group):\n",
    "    return group.sort_values(by='births',ascending=False)[:1000]\n",
    "grouped = names.groupby(['years','sex'])\n",
    "top1000 = grouped.apply(get_top1000)\n",
    "print(top1000.head())\n",
    "pieces = []\n",
    "for year,group in names.groupby(['years','sex']):\n",
    "    pieces.append(group.sort_values(by='births',ascending=False)[:1000])\n",
    "top1000 = pd.concat(pieces,ignore_index=True)"
   ]
  },
  {
   "cell_type": "markdown",
   "metadata": {},
   "source": [
    "### 1）分析命名趋势"
   ]
  },
  {
   "cell_type": "code",
   "execution_count": 65,
   "metadata": {},
   "outputs": [
    {
     "name": "stdout",
     "output_type": "stream",
     "text": [
      "name   Aaden  Aadhya  Aaliyah  Aanya  Aarav   Aaron  Aarush  Ab  Abagail  Abb  \\\n",
      "years                                                                           \n",
      "2013   203.0     NaN   5229.0    NaN  495.0  7301.0     NaN NaN      NaN  NaN   \n",
      "2014   238.0     NaN   4877.0  266.0  531.0  7391.0     NaN NaN      NaN  NaN   \n",
      "2015   297.0     NaN   4859.0    NaN  540.0  7152.0   211.0 NaN      NaN  NaN   \n",
      "2016     NaN   284.0   4636.0    NaN  519.0  7150.0     NaN NaN      NaN  NaN   \n",
      "2017   240.0   290.0   4160.0    NaN  524.0  7165.0     NaN NaN      NaN  NaN   \n",
      "\n",
      "name    ...       Zoe    Zoey   Zoie  Zola  Zollie  Zona  Zora  Zula   Zuri  \\\n",
      "years   ...                                                                   \n",
      "2013    ...    5969.0  7238.0  432.0   NaN     NaN   NaN   NaN   NaN  568.0   \n",
      "2014    ...    5870.0  7401.0  365.0   NaN     NaN   NaN   NaN   NaN  666.0   \n",
      "2015    ...    6038.0  6941.0  371.0   NaN     NaN   NaN   NaN   NaN  713.0   \n",
      "2016    ...    5737.0  6438.0  311.0   NaN     NaN   NaN   NaN   NaN  889.0   \n",
      "2017    ...    5129.0  6026.0  321.0   NaN     NaN   NaN   NaN   NaN  847.0   \n",
      "\n",
      "name   Zyaire  \n",
      "years          \n",
      "2013      NaN  \n",
      "2014      NaN  \n",
      "2015      NaN  \n",
      "2016    248.0  \n",
      "2017    300.0  \n",
      "\n",
      "[5 rows x 7134 columns]\n"
     ]
    }
   ],
   "source": [
    "boys = top1000[top1000.sex =='M']\n",
    "girls = top1000[top1000.sex == 'F']\n",
    "total_births = top1000.pivot_table('births',index='years',columns='name',aggfunc=sum)\n",
    "print(total_births.tail())"
   ]
  },
  {
   "cell_type": "code",
   "execution_count": 72,
   "metadata": {},
   "outputs": [
    {
     "data": {
      "image/png": "[encoded data removed]",
      "text/plain": [
       "<matplotlib.figure.Figure at 0x2d9bd7f0>"
      ]
     },
     "metadata": {},
     "output_type": "display_data"
    }
   ],
   "source": [
    "# 这几个名字随时间变化的使用数量\n",
    "subset = total_births[['Zoe','Harry','Mary','Marilyn']]\n",
    "subset.plot(subplots =True,figsize =(12,10),grid=False,title='Number of births per year')\n",
    "plt.show()"
   ]
  },
  {
   "cell_type": "markdown",
   "metadata": {},
   "source": [
    "###  2）评估命名多样性的增长"
   ]
  },
  {
   "cell_type": "code",
   "execution_count": 78,
   "metadata": {},
   "outputs": [
    {
     "data": {
      "image/png": "[encoded data removed]",
      "text/plain": [
       "<matplotlib.figure.Figure at 0x21846518>"
      ]
     },
     "metadata": {},
     "output_type": "display_data"
    }
   ],
   "source": [
    "# 前100个人在总出生人数中所占的比例\n",
    "table = top1000.pivot_table('prop',index='years',columns='sex',aggfunc=sum)\n",
    "table.plot(title='Sum of table1000.prop by years and sex',yticks=np.linspace(0,1.2,13),xticks=range(1880,2020,10))\n",
    "plt.show()"
   ]
  },
  {
   "cell_type": "code",
   "execution_count": 77,
   "metadata": {},
   "outputs": [
    {
     "name": "stdout",
     "output_type": "stream",
     "text": [
      "           name sex  births  years      prop\n",
      "260877    Jacob   M   22117   2010  0.011544\n",
      "260878    Ethan   M   18000   2010  0.009395\n",
      "260879  Michael   M   17342   2010  0.009051\n",
      "260880   Jayden   M   17171   2010  0.008962\n",
      "260881  William   M   17048   2010  0.008898\n"
     ]
    }
   ],
   "source": [
    "df =boys[boys.years == 2010]\n",
    "print(df.head())"
   ]
  },
  {
   "cell_type": "code",
   "execution_count": 82,
   "metadata": {},
   "outputs": [
    {
     "name": "stdout",
     "output_type": "stream",
     "text": [
      "260877    0.011544\n",
      "260878    0.020939\n",
      "260879    0.029990\n",
      "260880    0.038952\n",
      "260881    0.047850\n",
      "Name: prop, dtype: float64\n",
      "[116]\n"
     ]
    }
   ],
   "source": [
    "prop_cumsum = df.sort_values(by='prop',ascending=False).prop.cumsum()\n",
    "print(prop_cumsum.head())\n",
    "print(prop_cumsum.searchsorted(0.5))"
   ]
  },
  {
   "cell_type": "code",
   "execution_count": 87,
   "metadata": {},
   "outputs": [
    {
     "name": "stdout",
     "output_type": "stream",
     "text": [
      "220877    0.031799\n",
      "220878    0.057290\n",
      "220879    0.079113\n",
      "220880    0.100163\n",
      "220881    0.116635\n",
      "Name: prop, dtype: float64\n",
      "[45]\n"
     ]
    }
   ],
   "source": [
    "df = boys[boys.years == 1990]\n",
    "in1990 = df.sort_values(by='prop',ascending=False).prop.cumsum()\n",
    "print(in1990.head())\n",
    "print(in1990.searchsorted(0.5)+1)"
   ]
  },
  {
   "cell_type": "code",
   "execution_count": 96,
   "metadata": {},
   "outputs": [
    {
     "name": "stdout",
     "output_type": "stream",
     "text": [
      "sex       F     M\n",
      "years            \n",
      "1880   [38]  [14]\n",
      "1881   [38]  [14]\n",
      "1882   [38]  [15]\n",
      "1883   [39]  [15]\n",
      "1884   [39]  [16]\n"
     ]
    }
   ],
   "source": [
    "def get_quantile_count(group,q=0.5):\n",
    "    group = group.sort_values(by='prop',ascending=False)\n",
    "    return group.prop.cumsum().searchsorted(q)+1\n",
    "diversity = top1000.groupby(['years','sex']).apply(get_quantile_count)\n",
    "diversity = diversity.unstack('sex')\n",
    "print(diversity.head())"
   ]
  },
  {
   "cell_type": "markdown",
   "metadata": {},
   "source": [
    "### 3)最后一个字母的变革"
   ]
  },
  {
   "cell_type": "code",
   "execution_count": 101,
   "metadata": {},
   "outputs": [
    {
     "name": "stdout",
     "output_type": "stream",
     "text": [
      "sex                 F                            M                    \n",
      "years            1910      1960      2010     1910      1960      2010\n",
      "last_letter                                                           \n",
      "a            108397.0  691250.0  676646.0    977.0    5212.0   28859.0\n",
      "b                 NaN     694.0     455.0    411.0    3914.0   39264.0\n",
      "c                 5.0      49.0     955.0    482.0   15460.0   23341.0\n",
      "d              6751.0    3730.0    2640.0  22113.0  262136.0   44817.0\n",
      "e            133600.0  435043.0  316665.0  28665.0  178785.0  130228.0\n",
      "sex  years\n",
      "F    1910      396502.0\n",
      "     1960     2022018.0\n",
      "     2010     1774758.0\n",
      "M    1910      194213.0\n",
      "     1960     2132359.0\n",
      "     2010     1915942.0\n",
      "dtype: float64\n"
     ]
    }
   ],
   "source": [
    "# 从name列取出最后一个字母\n",
    "get_last_letter = lambda x:x[-1]\n",
    "last_letters = names.name.map(get_last_letter)\n",
    "last_letters.name = 'last_letter'\n",
    "table = names.pivot_table('births',index=last_letters,columns=['sex','years'],aggfunc=sum)\n",
    "subtable = table.reindex(columns=[1910,1960,2010],level='years')\n",
    "print(subtable.head())\n",
    "print(subtable.sum())"
   ]
  },
  {
   "cell_type": "code",
   "execution_count": 106,
   "metadata": {},
   "outputs": [
    {
     "data": {
      "image/png": "[encoded data removed]",
      "text/plain": [
       "<matplotlib.figure.Figure at 0x380a8198>"
      ]
     },
     "metadata": {},
     "output_type": "display_data"
    }
   ],
   "source": [
    "letter_prop = subtable/subtable.sum().astype(float)\n",
    "import matplotlib.pyplot as plt\n",
    "fig,axes = plt.subplots(2,1,figsize=(15,10))\n",
    "letter_prop['M'].plot(kind='bar',rot=0,ax=axes[0],title='Male')\n",
    "letter_prop['F'].plot(kind='bar',rot=0,ax=axes[1],title='Famale',legend=False)\n",
    "plt.show()\n",
    "# 男孩女孩名字中各个字母的比例"
   ]
  },
  {
   "cell_type": "code",
   "execution_count": 108,
   "metadata": {},
   "outputs": [
    {
     "name": "stdout",
     "output_type": "stream",
     "text": [
      "last_letter         d         n         y\n",
      "years                                    \n",
      "1880         0.083057  0.153216  0.075762\n",
      "1881         0.083242  0.153212  0.077455\n",
      "1882         0.085332  0.149561  0.077538\n",
      "1883         0.084051  0.151653  0.079148\n",
      "1884         0.086122  0.149927  0.080408\n"
     ]
    }
   ],
   "source": [
    "letter_prop = table / table.sum().astype(float)\n",
    "dny_ts = letter_prop.loc[['d','n','y'],'M'].T\n",
    "print(dny_ts.head())"
   ]
  },
  {
   "cell_type": "code",
   "execution_count": 111,
   "metadata": {},
   "outputs": [
    {
     "data": {
      "image/png": "[encoded data removed]",
      "text/plain": [
       "<matplotlib.figure.Figure at 0x1db37e48>"
      ]
     },
     "metadata": {},
     "output_type": "display_data"
    }
   ],
   "source": [
    "dny_ts.plot()\n",
    "# 各年出生的男孩名字以d/n/y结尾的人数比例\n",
    "plt.show()"
   ]
  },
  {
   "cell_type": "markdown",
   "metadata": {},
   "source": [
    "### 4）变成女孩名字的男孩名字"
   ]
  },
  {
   "cell_type": "code",
   "execution_count": 112,
   "metadata": {},
   "outputs": [
    {
     "name": "stdout",
     "output_type": "stream",
     "text": [
      "['Leslie' 'Lesley' 'Leslee' 'Lesli' 'Lesly']\n"
     ]
    }
   ],
   "source": [
    "all_names = top1000.name.unique()\n",
    "\n",
    "mask = np.array(['lesl' in x.lower() for x in all_names])\n",
    "lesley_like = all_names[mask]\n",
    "print(lesley_like)"
   ]
  },
  {
   "cell_type": "code",
   "execution_count": 118,
   "metadata": {},
   "outputs": [
    {
     "name": "stdout",
     "output_type": "stream",
     "text": [
      "name\n",
      "Leslee       993\n",
      "Lesley     35032\n",
      "Lesli        929\n",
      "Leslie    377561\n",
      "Lesly      11432\n",
      "Name: births, dtype: int64\n",
      "sex      F   M\n",
      "years         \n",
      "2013   1.0 NaN\n",
      "2014   1.0 NaN\n",
      "2015   1.0 NaN\n",
      "2016   1.0 NaN\n",
      "2017   1.0 NaN\n"
     ]
    },
    {
     "data": {
      "image/png": "[encoded data removed]",
      "text/plain": [
       "<matplotlib.figure.Figure at 0x1cb0ff60>"
      ]
     },
     "metadata": {},
     "output_type": "display_data"
    }
   ],
   "source": [
    "filtered = top1000[top1000.name.isin(lesley_like)]\n",
    "print(filtered.groupby('name').births.sum())\n",
    "table = filtered.pivot_table('births',index='years',columns='sex',aggfunc='sum')\n",
    "table = table.div(table.sum(1),axis=0)\n",
    "print(table.tail())\n",
    "table.plot(style={'M':'k-','F':'k--'})\n",
    "plt.show()\n",
    "# 各年度使用Lesley型名字的男女比例"
   ]
  },
  {
   "cell_type": "code",
   "execution_count": null,
   "metadata": {
    "collapsed": true
   },
   "outputs": [],
   "source": []
  }
 ],
 "metadata": {
  "kernelspec": {
   "display_name": "Python 3",
   "language": "python",
   "name": "python3"
  },
  "language_info": {
   "codemirror_mode": {
    "name": "ipython",
    "version": 3
   },
   "file_extension": ".py",
   "mimetype": "text/x-python",
   "name": "python",
   "nbconvert_exporter": "python",
   "pygments_lexer": "ipython3",
   "version": "3.6.1"
  }
 },
 "nbformat": 4,
 "nbformat_minor": 2
}
