{
 "cells": [
  {
   "cell_type": "markdown",
   "metadata": {},
   "source": [
    "# Numpy数组和矢量计算"
   ]
  },
  {
   "cell_type": "markdown",
   "metadata": {},
   "source": [
    "Numpy(Numerical Python的简称)是高性能科学计算和数据分析的基础包。部分功能如下：\n",
    "   - ndarray,一个具有矢量运算和复杂广播能力的快速且节省空间的多维数组\n",
    "   - 用于对数组数据进行快速运算的标准数据函数\n",
    "   - 线性代数随机数生成\n",
    "   \n",
    "   而对于数据分析而言，关注的功能主要集中在：常用的数组算法（排序、聚合以及转换等）"
   ]
  },
  {
   "cell_type": "markdown",
   "metadata": {
    "collapsed": true
   },
   "source": [
    "## 1） Numpy的ndarray:一种多维数组对象"
   ]
  },
  {
   "cell_type": "markdown",
   "metadata": {},
   "source": [
    "### 创建ndarray"
   ]
  },
  {
   "cell_type": "code",
   "execution_count": 6,
   "metadata": {},
   "outputs": [
    {
     "name": "stdout",
     "output_type": "stream",
     "text": [
      "[1 2 3 4 5]\n",
      "[[ 1  2  3]\n",
      " [ 4  5  6]\n",
      " [ 7  8  9]\n",
      " [10 11 12]]\n",
      "2\n",
      "(4, 3)\n",
      "int32\n",
      "[ 0.  0.  0.  0.  0.  0.  0.  0.  0.  0.]\n",
      "[[ 0.  0.  0.  0.  0.]\n",
      " [ 0.  0.  0.  0.  0.]\n",
      " [ 0.  0.  0.  0.  0.]]\n",
      "[[[ 0.  0.]\n",
      "  [ 0.  0.]\n",
      "  [ 0.  0.]]\n",
      "\n",
      " [[ 0.  0.]\n",
      "  [ 0.  0.]\n",
      "  [ 0.  0.]]]\n",
      "[ 0  1  2  3  4  5  6  7  8  9 10 11 12 13 14]\n"
     ]
    }
   ],
   "source": [
    "import  numpy as np\n",
    "# 一个列表的转换\n",
    "data1 = [1,2,3,4,5]\n",
    "arr1 =np.array(data1)\n",
    "print(arr1)\n",
    "\n",
    "#嵌套列表\n",
    "data2 =[[1,2,3],[4,5,6],[7,8,9],[10,11,12]]\n",
    "arr2=np.array(data2)      # 将列表转换为数组\n",
    "print(arr2)\n",
    "print(arr2.ndim)          # 查看列表的纬度\n",
    "print(arr2.shape)         # 查看列表的形状，几行几列的矩阵\n",
    "print(arr2.dtype)         # 查看列表的数据类型\n",
    "\n",
    "print(np.zeros(10))       # 产生一个全为0的1行10列的1维数组 \n",
    "print(np.zeros((3,5)))    # 产生一个全为0的3行5列的1维数组\n",
    "print(np.empty((2,3,2)))  # 产生一个全为0的2行3列的2维数组\n",
    "\n",
    "# ones 全为1\n",
    "# arange是Python内置函数range的数据版\n",
    "print(np.arange(15))"
   ]
  },
  {
   "cell_type": "markdown",
   "metadata": {},
   "source": [
    "### ndarray的数据类型\n",
    "numpy中的数据类型：\n",
    "-     int8,uint8,int16,uint16,in32,uint32,int64,uint64,float16,float32,float64,float128,bool,object,string_等"
   ]
  },
  {
   "cell_type": "code",
   "execution_count": 8,
   "metadata": {},
   "outputs": [
    {
     "name": "stdout",
     "output_type": "stream",
     "text": [
      "float64\n",
      "int32\n"
     ]
    }
   ],
   "source": [
    "arr1 = np.array([1,2,3],dtype=np.float64)\n",
    "arr2 = np.array([1,2,3],dtype=np.int32)\n",
    "print(arr1.dtype)\n",
    "print(arr2.dtype)"
   ]
  },
  {
   "cell_type": "code",
   "execution_count": 10,
   "metadata": {},
   "outputs": [
    {
     "name": "stdout",
     "output_type": "stream",
     "text": [
      "[1 2 3 4 5]\n",
      "int32\n",
      "[ 1.  2.  3.  4.  5.]\n",
      "float64\n"
     ]
    }
   ],
   "source": [
    "# 数据类型转换\n",
    "# 整数-浮点数\n",
    "arr =np.array([1,2,3,4,5])\n",
    "print(arr)\n",
    "print(arr.dtype)\n",
    "float_arr = arr.astype(np.float)\n",
    "print(float_arr)\n",
    "print(float_arr.dtype)"
   ]
  },
  {
   "cell_type": "code",
   "execution_count": 13,
   "metadata": {},
   "outputs": [
    {
     "name": "stdout",
     "output_type": "stream",
     "text": [
      "[ 3.7  1.2  5.   5. ]\n",
      "[3 1 5 5]\n"
     ]
    }
   ],
   "source": [
    "# 浮点数-整数\n",
    "arr = np.array([3.7,1.2,5,5])\n",
    "print(arr)\n",
    "print(arr.astype(np.int16))"
   ]
  },
  {
   "cell_type": "code",
   "execution_count": 14,
   "metadata": {},
   "outputs": [
    {
     "name": "stdout",
     "output_type": "stream",
     "text": [
      "[  1.5    2.    35.    44.25]\n"
     ]
    }
   ],
   "source": [
    "# 若字符串全是数字，也可以astype将其转换为数值形式\n",
    "numeric_strings = np.array(['1.5','2','35','44.25'],dtype=np.string_)\n",
    "print(numeric_strings.astype(float))"
   ]
  },
  {
   "cell_type": "markdown",
   "metadata": {},
   "source": [
    "### 数组和标量之间的运算"
   ]
  },
  {
   "cell_type": "code",
   "execution_count": 18,
   "metadata": {},
   "outputs": [
    {
     "name": "stdout",
     "output_type": "stream",
     "text": [
      "[[ 1  4  9]\n",
      " [16 25 36]]\n",
      "[[ 1.          0.5         0.33333333]\n",
      " [ 0.25        0.2         0.16666667]]\n",
      "[[ 5 10 15]\n",
      " [20 25 30]]\n"
     ]
    }
   ],
   "source": [
    "arr=np.array([[1,2,3],[4,5,6]])\n",
    "print(arr*arr)\n",
    "print(1/arr)\n",
    "print(arr*5)"
   ]
  },
  {
   "cell_type": "markdown",
   "metadata": {},
   "source": [
    "### 基本的索引和切片"
   ]
  },
  {
   "cell_type": "code",
   "execution_count": 20,
   "metadata": {},
   "outputs": [
    {
     "name": "stdout",
     "output_type": "stream",
     "text": [
      "[0 1 2 3 4 5 6 7 8 9]\n",
      "6\n",
      "[0 1 2]\n",
      "[155   1   2   3   4   5   6   7   8   9]\n"
     ]
    }
   ],
   "source": [
    "arr =np.arange(10)\n",
    "print(arr)\n",
    "print(arr[6])\n",
    "print(arr[0:3])\n",
    "arr[0]=155\n",
    "print(arr)"
   ]
  },
  {
   "cell_type": "code",
   "execution_count": 23,
   "metadata": {},
   "outputs": [
    {
     "name": "stdout",
     "output_type": "stream",
     "text": [
      "[4 5 6]\n",
      "4\n",
      "6\n"
     ]
    }
   ],
   "source": [
    "arr2d=np.array([[1,2,3],[4,5,6],[7,8,9]])\n",
    "print(arr2d)\n",
    "print(arr2d[1])\n",
    "print(arr2d[1][0])\n",
    "print(arr2d[0:][1,2])"
   ]
  },
  {
   "cell_type": "markdown",
   "metadata": {},
   "source": [
    "### 数组转换和轴对换"
   ]
  },
  {
   "cell_type": "code",
   "execution_count": 27,
   "metadata": {},
   "outputs": [
    {
     "name": "stdout",
     "output_type": "stream",
     "text": [
      "[[ 0  1  2  3  4]\n",
      " [ 5  6  7  8  9]\n",
      " [10 11 12 13 14]]\n",
      "[[ 0  5 10]\n",
      " [ 1  6 11]\n",
      " [ 2  7 12]\n",
      " [ 3  8 13]\n",
      " [ 4  9 14]]\n",
      "[[ 2  4  6]\n",
      " [ 4  8 12]\n",
      " [ 6 12 18]]\n"
     ]
    }
   ],
   "source": [
    "arr1 = np.arange(15).reshape((3,5))\n",
    "print(arr1)\n",
    "print(arr1.T)\n",
    "\n",
    "arr2 = np.array([[1,2,3],[1,2,3]])\n",
    "print(np.dot(arr2.T,arr2))"
   ]
  },
  {
   "cell_type": "code",
   "execution_count": 5,
   "metadata": {},
   "outputs": [
    {
     "name": "stdout",
     "output_type": "stream",
     "text": [
      "{0: -1.913068244905515, 1: 0.18465530938289765, 2: 0.5536824836516111, 3: -0.9844002294197887, 4: 0.4547512178268144}\n",
      "{0: 0.1878539478041038, 1: 0.12540885445255578, 2: 0.36758518442152943, 3: 0.5805947098370959, 4: 0.544021642310213}\n"
     ]
    }
   ],
   "source": [
    "'''\n",
    "rand与randn的区别\n",
    "numpy.random.randn(d0, d1, …, dn)是从标准正态分布中返回一个或多个样本值。 \n",
    "numpy.random.rand(d0, d1, …, dn)的随机样本位于[0, 1)中。\n",
    "'''\n",
    "import numpy as np\n",
    "\n",
    "# 另外一种导入方式：from numpy.random import randn,rand \n",
    "\n",
    "data = {i:np.random.randn() for i in range(5)}\n",
    "\n",
    "print(data)\n",
    "\n",
    "data = {i:np.random.rand() for i in range(5)}\n",
    "\n",
    "print(data)"
   ]
  },
  {
   "cell_type": "code",
   "execution_count": 6,
   "metadata": {},
   "outputs": [
    {
     "data": {
      "text/plain": [
       "'G:\\\\github\\\\dataAnalyiseBook\\\\chapter4'"
      ]
     },
     "execution_count": 6,
     "metadata": {},
     "output_type": "execute_result"
    }
   ],
   "source": [
    "# 获取当前的工作路径\n",
    "%pwd"
   ]
  },
  {
   "cell_type": "code",
   "execution_count": 13,
   "metadata": {
    "collapsed": true
   },
   "outputs": [],
   "source": [
    "b = [1,2,3]\n",
    "b?\n",
    "# b?代表b的用法  ??返回详细的函数信息"
   ]
  },
  {
   "cell_type": "code",
   "execution_count": 19,
   "metadata": {
    "collapsed": true
   },
   "outputs": [],
   "source": [
    "# np.*load*?   #返回中间为load的函数"
   ]
  },
  {
   "cell_type": "code",
   "execution_count": 3,
   "metadata": {},
   "outputs": [
    {
     "name": "stdout",
     "output_type": "stream",
     "text": [
      "Wall time: 510 ms\n"
     ]
    },
    {
     "data": {
      "text/plain": [
       "array([[ -4.39199305, -16.06132641,  -6.81388896, ...,  -0.79891336,\n",
       "         -5.73936725,  -1.63301216],\n",
       "       [  5.53221255,  -4.20729112,   8.53277075, ..., -18.9793878 ,\n",
       "         -1.27689202,   3.90205513],\n",
       "       [  5.28982285,  -5.94705066,  21.2750335 , ...,  -0.48327212,\n",
       "         -7.22612995,   2.04786143],\n",
       "       ..., \n",
       "       [  6.43084178,  21.40960355,  13.00338552, ...,  -5.80430076,\n",
       "         -3.53148021, -11.39944941],\n",
       "       [  2.14207432,  -6.55984694,  21.07029032, ...,  -5.59399282,\n",
       "          3.66479254,   4.5023155 ],\n",
       "       [  7.66987406,  -3.44535068,  -7.75636457, ...,  -7.71485194,\n",
       "        -14.68241974,  18.30309364]])"
      ]
     },
     "execution_count": 3,
     "metadata": {},
     "output_type": "execute_result"
    }
   ],
   "source": [
    "import numpy as np\n",
    "a = np.random.randn(100,100)\n",
    "%time np.dot(a,a)   # 一共的运行时间"
   ]
  },
  {
   "cell_type": "code",
   "execution_count": 4,
   "metadata": {},
   "outputs": [
    {
     "name": "stdout",
     "output_type": "stream",
     "text": [
      "The slowest run took 19.06 times longer than the fastest. This could mean that an intermediate result is being cached.\n",
      "10000 loops, best of 3: 52 µs per loop\n"
     ]
    }
   ],
   "source": [
    "%timeit np.dot(a,a)  # 每次的运行时间及每秒"
   ]
  },
  {
   "cell_type": "code",
   "execution_count": null,
   "metadata": {
    "collapsed": true
   },
   "outputs": [],
   "source": []
  }
 ],
 "metadata": {
  "kernelspec": {
   "display_name": "Python 3",
   "language": "python",
   "name": "python3"
  },
  "language_info": {
   "codemirror_mode": {
    "name": "ipython",
    "version": 3
   },
   "file_extension": ".py",
   "mimetype": "text/x-python",
   "name": "python",
   "nbconvert_exporter": "python",
   "pygments_lexer": "ipython3",
   "version": "3.6.1"
  }
 },
 "nbformat": 4,
 "nbformat_minor": 2
}
